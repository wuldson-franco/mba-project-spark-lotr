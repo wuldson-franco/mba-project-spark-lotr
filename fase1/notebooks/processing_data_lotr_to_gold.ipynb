{
 "cells": [
  {
   "cell_type": "code",
   "execution_count": 11,
   "metadata": {},
   "outputs": [],
   "source": [
    "from pyspark.sql import SparkSession\n",
    "\n",
    "spark = (\n",
    "    \n",
    "    SparkSession\n",
    "            .builder\n",
    "            .config('spark.jars.packages', 'io.delta:delta-core_2.12:2.1.0')\n",
    "            .config('spark.sql.extensions', 'io.delta.sql.DeltaSparkSessionExtension')\n",
    "            .config('spark.sql.catalog.spark_catalog', 'org.apache.spark.sql.delta.catalog.DeltaCatalog')\n",
    "            .getOrCreate()\n",
    "            \n",
    ")"
   ]
  },
  {
   "cell_type": "code",
   "execution_count": 12,
   "metadata": {},
   "outputs": [],
   "source": [
    "sc = spark.sparkContext"
   ]
  },
  {
   "cell_type": "code",
   "execution_count": 15,
   "metadata": {},
   "outputs": [],
   "source": [
    "lotr = (\n",
    "    spark\n",
    "    .read\n",
    "    .format('delta')\n",
    "    .load('../datalake/silver/lotr_pt_br')\n",
    ")"
   ]
  },
  {
   "cell_type": "code",
   "execution_count": 14,
   "metadata": {},
   "outputs": [],
   "source": [
    "import pyspark.sql.functions as F"
   ]
  },
  {
   "cell_type": "code",
   "execution_count": 17,
   "metadata": {},
   "outputs": [],
   "source": [
    "agg_advices = (\n",
    "    lotr\n",
    "    .withColumn('word', F.explode(F.split(F.col('personagem'), ' ')))\n",
    "    .groupBy('word')\n",
    "    .count()\n",
    "    .sort('count', ascending=False)\n",
    ")"
   ]
  },
  {
   "cell_type": "code",
   "execution_count": 18,
   "metadata": {},
   "outputs": [
    {
     "name": "stdout",
     "output_type": "stream",
     "text": [
      "+-------+-----+\n",
      "|   word|count|\n",
      "+-------+-----+\n",
      "|  FRODO|   49|\n",
      "|    SAM|   48|\n",
      "|GANDALF|   40|\n",
      "| PIPPIN|   30|\n",
      "|SMEAGOL|   24|\n",
      "|ARAGORN|   20|\n",
      "|THEODEN|   20|\n",
      "|  GIMLI|   16|\n",
      "|SARUMAN|   16|\n",
      "|    ORC|   14|\n",
      "|  MERRY|   14|\n",
      "|  EOWYN|   12|\n",
      "|   KING|   10|\n",
      "|  BILBO|   10|\n",
      "|  WITCH|   10|\n",
      "| GOLLUM|   10|\n",
      "| SAURON|    8|\n",
      "|     OF|    8|\n",
      "|  MOUTH|    8|\n",
      "| DEAGOL|    6|\n",
      "+-------+-----+\n",
      "only showing top 20 rows\n",
      "\n"
     ]
    }
   ],
   "source": [
    "agg_advices.show()"
   ]
  },
  {
   "cell_type": "code",
   "execution_count": 19,
   "metadata": {},
   "outputs": [
    {
     "name": "stderr",
     "output_type": "stream",
     "text": [
      "                                                                                \r"
     ]
    }
   ],
   "source": [
    "(\n",
    "    agg_advices\n",
    "    .write\n",
    "    .format('delta')\n",
    "    .mode('overwrite')\n",
    "    .save('../datalake/gold/agg_lotr')\n",
    ")"
   ]
  }
 ],
 "metadata": {
  "kernelspec": {
   "display_name": "Python 3.10.4 64-bit",
   "language": "python",
   "name": "python3"
  },
  "language_info": {
   "codemirror_mode": {
    "name": "ipython",
    "version": 3
   },
   "file_extension": ".py",
   "mimetype": "text/x-python",
   "name": "python",
   "nbconvert_exporter": "python",
   "pygments_lexer": "ipython3",
   "version": "3.10.8"
  },
  "orig_nbformat": 4,
  "vscode": {
   "interpreter": {
    "hash": "916dbcbb3f70747c44a77c7bcd40155683ae19c65e1c03b4aa3499c5328201f1"
   }
  }
 },
 "nbformat": 4,
 "nbformat_minor": 2
}
