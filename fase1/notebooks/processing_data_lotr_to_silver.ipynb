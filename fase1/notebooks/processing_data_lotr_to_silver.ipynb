{
 "cells": [
  {
   "cell_type": "code",
   "execution_count": 52,
   "metadata": {},
   "outputs": [],
   "source": [
    "from pyspark.sql import SparkSession\n",
    "from deep_translator import GoogleTranslator\n",
    "\n",
    "spark = (\n",
    "    \n",
    "    SparkSession\n",
    "            .builder\n",
    "            .config('spark.jars.packages', 'io.delta:delta-core_2.12:2.1.0')\n",
    "            .config('spark.sql.extensions', 'io.delta.sql.DeltaSparkSessionExtension')\n",
    "            .config('spark.sql.catalog.spark_catalog', 'org.apache.spark.sql.delta.catalog.DeltaCatalog')\n",
    "            .getOrCreate()\n",
    "            \n",
    ")"
   ]
  },
  {
   "cell_type": "code",
   "execution_count": 53,
   "metadata": {},
   "outputs": [],
   "source": [
    "lotr = (\n",
    "    spark\n",
    "    .read\n",
    "    .format('delta')\n",
    "    .load('../datalake/bronze/lotr/')\n",
    ")"
   ]
  },
  {
   "cell_type": "code",
   "execution_count": 54,
   "metadata": {},
   "outputs": [],
   "source": [
    "def translate_en_to_pt(text: str):\n",
    "    \n",
    "    return GoogleTranslator(source='english', target='portuguese').translate(text)"
   ]
  },
  {
   "cell_type": "code",
   "execution_count": 55,
   "metadata": {},
   "outputs": [],
   "source": [
    "import pyspark.sql.types as T\n",
    "import pyspark.sql.functions as F"
   ]
  },
  {
   "cell_type": "code",
   "execution_count": 56,
   "metadata": {},
   "outputs": [],
   "source": [
    "translated = F.udf(translate_en_to_pt, T.StringType())"
   ]
  },
  {
   "cell_type": "code",
   "execution_count": 57,
   "metadata": {},
   "outputs": [],
   "source": [
    "lotr = lotr.withColumn('dialog', translated('dialog'))"
   ]
  },
  {
   "cell_type": "code",
   "execution_count": 58,
   "metadata": {},
   "outputs": [],
   "source": [
    "lotr = lotr.withColumnRenamed('dialog', 'dialogos')\n",
    "lotr = lotr.withColumnRenamed('movie', 'filme')\n",
    "lotr = lotr.withColumnRenamed('char', 'personagem')"
   ]
  },
  {
   "cell_type": "code",
   "execution_count": 59,
   "metadata": {},
   "outputs": [
    {
     "name": "stderr",
     "output_type": "stream",
     "text": [
      "[Stage 17:>                 (0 + 1) / 1][Stage 71:>                 (0 + 1) / 1]\r"
     ]
    },
    {
     "name": "stdout",
     "output_type": "stream",
     "text": [
      "-RECORD 0-------------------------------------------------------------------\n",
      " Unnamed:0  | 0                                                             \n",
      " personagem | DEAGOL                                                        \n",
      " dialogos   | Oh Smeagol Eu tenho um! , Eu tenho um peixe Smeagol, Smeagol! \n",
      " filme      | The Return of the King                                        \n",
      "only showing top 1 row\n",
      "\n"
     ]
    },
    {
     "name": "stderr",
     "output_type": "stream",
     "text": [
      "                                                                                \r"
     ]
    }
   ],
   "source": [
    "lotr.show(n=1, vertical=True, truncate=False)"
   ]
  },
  {
   "cell_type": "code",
   "execution_count": 63,
   "metadata": {},
   "outputs": [
    {
     "name": "stderr",
     "output_type": "stream",
     "text": [
      "[Stage 17:>                                                         (0 + 1) / 1]\r"
     ]
    },
    {
     "name": "stderr",
     "output_type": "stream",
     "text": [
      "[Stage 17:>                                                         (0 + 1) / 1]\r"
     ]
    }
   ],
   "source": [
    "(\n",
    "    lotr\n",
    "    .write\n",
    "    .format('delta')\n",
    "    .mode('overwrite')\n",
    "    .save('../datalake/silver/lotr_pt_br')\n",
    "\n",
    ")"
   ]
  },
  {
   "cell_type": "code",
   "execution_count": null,
   "metadata": {},
   "outputs": [],
   "source": [
    "lotr.show()"
   ]
  }
 ],
 "metadata": {
  "kernelspec": {
   "display_name": "Python 3.10.4 64-bit",
   "language": "python",
   "name": "python3"
  },
  "language_info": {
   "codemirror_mode": {
    "name": "ipython",
    "version": 3
   },
   "file_extension": ".py",
   "mimetype": "text/x-python",
   "name": "python",
   "nbconvert_exporter": "python",
   "pygments_lexer": "ipython3",
   "version": "3.10.8"
  },
  "orig_nbformat": 4,
  "vscode": {
   "interpreter": {
    "hash": "916dbcbb3f70747c44a77c7bcd40155683ae19c65e1c03b4aa3499c5328201f1"
   }
  }
 },
 "nbformat": 4,
 "nbformat_minor": 2
}
