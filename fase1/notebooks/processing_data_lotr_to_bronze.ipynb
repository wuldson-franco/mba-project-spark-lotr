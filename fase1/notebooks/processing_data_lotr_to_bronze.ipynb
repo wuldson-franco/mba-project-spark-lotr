{
 "cells": [
  {
   "cell_type": "code",
   "execution_count": 2,
   "metadata": {},
   "outputs": [],
   "source": [
    "from pyspark.sql import SparkSession"
   ]
  },
  {
   "cell_type": "code",
   "execution_count": 3,
   "metadata": {},
   "outputs": [
    {
     "name": "stderr",
     "output_type": "stream",
     "text": [
      "22/10/28 22:36:11 WARN Utils: Your hostname, DESKTOP-S66RQFT resolves to a loopback address: 127.0.1.1; using 172.18.133.1 instead (on interface eth0)\n",
      "22/10/28 22:36:11 WARN Utils: Set SPARK_LOCAL_IP if you need to bind to another address\n"
     ]
    },
    {
     "name": "stdout",
     "output_type": "stream",
     "text": [
      ":: loading settings :: url = jar:file:/usr/local/lib/python3.10/dist-packages/pyspark/jars/ivy-2.5.0.jar!/org/apache/ivy/core/settings/ivysettings.xml\n"
     ]
    },
    {
     "name": "stderr",
     "output_type": "stream",
     "text": [
      "Ivy Default Cache set to: /home/wds_linux/.ivy2/cache\n",
      "The jars for the packages stored in: /home/wds_linux/.ivy2/jars\n",
      "io.delta#delta-core_2.12 added as a dependency\n",
      ":: resolving dependencies :: org.apache.spark#spark-submit-parent-4046af30-6fa0-4cef-b5c4-ac187f4726b0;1.0\n",
      "\tconfs: [default]\n",
      "\tfound io.delta#delta-core_2.12;2.1.0 in central\n",
      "\tfound io.delta#delta-storage;2.1.0 in central\n",
      "\tfound org.antlr#antlr4-runtime;4.8 in central\n",
      "\tfound org.codehaus.jackson#jackson-core-asl;1.9.13 in central\n",
      ":: resolution report :: resolve 316ms :: artifacts dl 25ms\n",
      "\t:: modules in use:\n",
      "\tio.delta#delta-core_2.12;2.1.0 from central in [default]\n",
      "\tio.delta#delta-storage;2.1.0 from central in [default]\n",
      "\torg.antlr#antlr4-runtime;4.8 from central in [default]\n",
      "\torg.codehaus.jackson#jackson-core-asl;1.9.13 from central in [default]\n",
      "\t---------------------------------------------------------------------\n",
      "\t|                  |            modules            ||   artifacts   |\n",
      "\t|       conf       | number| search|dwnlded|evicted|| number|dwnlded|\n",
      "\t---------------------------------------------------------------------\n",
      "\t|      default     |   4   |   0   |   0   |   0   ||   4   |   0   |\n",
      "\t---------------------------------------------------------------------\n",
      ":: retrieving :: org.apache.spark#spark-submit-parent-4046af30-6fa0-4cef-b5c4-ac187f4726b0\n",
      "\tconfs: [default]\n",
      "\t0 artifacts copied, 4 already retrieved (0kB/7ms)\n",
      "22/10/28 22:36:12 WARN NativeCodeLoader: Unable to load native-hadoop library for your platform... using builtin-java classes where applicable\n",
      "Using Spark's default log4j profile: org/apache/spark/log4j-defaults.properties\n",
      "Setting default log level to \"WARN\".\n",
      "To adjust logging level use sc.setLogLevel(newLevel). For SparkR, use setLogLevel(newLevel).\n",
      "22/10/28 22:36:14 WARN Utils: Service 'SparkUI' could not bind on port 4040. Attempting port 4041.\n"
     ]
    }
   ],
   "source": [
    "spark = (\n",
    "    \n",
    "    SparkSession\n",
    "            .builder\n",
    "            .config('spark.jars.packages', 'io.delta:delta-core_2.12:2.1.0')\n",
    "            .config('spark.sql.extensions', 'io.delta.sql.DeltaSparkSessionExtension')\n",
    "            .config('spark.sql.catalog.spark_catalog', 'org.apache.spark.sql.delta.catalog.DeltaCatalog')\n",
    "            .getOrCreate()\n",
    "            \n",
    ")"
   ]
  },
  {
   "cell_type": "code",
   "execution_count": 4,
   "metadata": {},
   "outputs": [
    {
     "name": "stderr",
     "output_type": "stream",
     "text": [
      "                                                                                \r"
     ]
    }
   ],
   "source": [
    "df_lotr = (\n",
    "    spark\n",
    "    .read\n",
    "    .format('csv')\n",
    "    .option('header', True)\n",
    "    .load('../datalake/landing-zone/lotr/')\n",
    ")"
   ]
  },
  {
   "cell_type": "code",
   "execution_count": 5,
   "metadata": {},
   "outputs": [
    {
     "name": "stdout",
     "output_type": "stream",
     "text": [
      "-RECORD 0--------------------------------------------------------------------------------------------------------------------------\n",
      " Unnamed:0 | 0                                                                                                                     \n",
      " char      | DEAGOL                                                                                                                \n",
      " dialog    | Oh Smeagol Ive got one! , Ive got a fish Smeagol, Smeagol!                                                            \n",
      " movie     | The Return of the King                                                                                                \n",
      "-RECORD 1--------------------------------------------------------------------------------------------------------------------------\n",
      " Unnamed:0 | 1                                                                                                                     \n",
      " char      | SMEAGOL                                                                                                               \n",
      " dialog    | Pull it in! Go on, go on, go on, pull it in!                                                                          \n",
      " movie     | The Return of the King                                                                                                \n",
      "-RECORD 2--------------------------------------------------------------------------------------------------------------------------\n",
      " Unnamed:0 | 2                                                                                                                     \n",
      " char      | DEAGOL                                                                                                                \n",
      " dialog    | Arrghh!                                                                                                               \n",
      " movie     | The Return of the King                                                                                                \n",
      "-RECORD 3--------------------------------------------------------------------------------------------------------------------------\n",
      " Unnamed:0 | 3                                                                                                                     \n",
      " char      | SMEAGOL                                                                                                               \n",
      " dialog    | Deagol!                                                                                                               \n",
      " movie     | The Return of the King                                                                                                \n",
      "-RECORD 4--------------------------------------------------------------------------------------------------------------------------\n",
      " Unnamed:0 | 4                                                                                                                     \n",
      " char      | SMEAGOL                                                                                                               \n",
      " dialog    | Deagol!                                                                                                               \n",
      " movie     | The Return of the King                                                                                                \n",
      "-RECORD 5--------------------------------------------------------------------------------------------------------------------------\n",
      " Unnamed:0 | 5                                                                                                                     \n",
      " char      | SMEAGOL                                                                                                               \n",
      " dialog    | Deagol!                                                                                                               \n",
      " movie     | The Return of the King                                                                                                \n",
      "-RECORD 6--------------------------------------------------------------------------------------------------------------------------\n",
      " Unnamed:0 | 6                                                                                                                     \n",
      " char      | SMEAGOL                                                                                                               \n",
      " dialog    | Give us that! Deagol my love                                                                                          \n",
      " movie     | The Return of the King                                                                                                \n",
      "-RECORD 7--------------------------------------------------------------------------------------------------------------------------\n",
      " Unnamed:0 | 7                                                                                                                     \n",
      " char      | DEAGOL                                                                                                                \n",
      " dialog    | Why?                                                                                                                  \n",
      " movie     | The Return of the King                                                                                                \n",
      "-RECORD 8--------------------------------------------------------------------------------------------------------------------------\n",
      " Unnamed:0 | 8                                                                                                                     \n",
      " char      | SMEAGOL                                                                                                               \n",
      " dialog    | Because' , it's my birthday and I wants it.                                                                           \n",
      " movie     | The Return of the King                                                                                                \n",
      "-RECORD 9--------------------------------------------------------------------------------------------------------------------------\n",
      " Unnamed:0 | 9                                                                                                                     \n",
      " char      | SMEAGOL                                                                                                               \n",
      " dialog    |  My precious.                                                                                                         \n",
      " movie     | The Return of the King                                                                                                \n",
      "-RECORD 10-------------------------------------------------------------------------------------------------------------------------\n",
      " Unnamed:0 | 10                                                                                                                    \n",
      " char      | SMEAGOL                                                                                                               \n",
      " dialog    | They cursed us                                                                                                        \n",
      " movie     | The Return of the King                                                                                                \n",
      "-RECORD 11-------------------------------------------------------------------------------------------------------------------------\n",
      " Unnamed:0 | 11                                                                                                                    \n",
      " char      | (GOLLUM                                                                                                               \n",
      " dialog    | Murderer)                                                                                                             \n",
      " movie     | The Return of the King                                                                                                \n",
      "-RECORD 12-------------------------------------------------------------------------------------------------------------------------\n",
      " Unnamed:0 | 12                                                                                                                    \n",
      " char      | SMEAGOL                                                                                                               \n",
      " dialog    | 'Murderer' they called us. They cursed us and drove us away.                                                          \n",
      " movie     | The Return of the King                                                                                                \n",
      "-RECORD 13-------------------------------------------------------------------------------------------------------------------------\n",
      " Unnamed:0 | 13                                                                                                                    \n",
      " char      | SMEAGOL                                                                                                               \n",
      " dialog    | Gollum' Gollum' Gollum' , and we wept precious. We wept to be so alone.                                               \n",
      " movie     | The Return of the King                                                                                                \n",
      "-RECORD 14-------------------------------------------------------------------------------------------------------------------------\n",
      " Unnamed:0 | 14                                                                                                                    \n",
      " char      | SMEAGOL                                                                                                               \n",
      " dialog    | and cool, so nice for feet' and we only wish to catch a fish    , so juicy sweet.                                     \n",
      " movie     | The Return of the King                                                                                                \n",
      "-RECORD 15-------------------------------------------------------------------------------------------------------------------------\n",
      " Unnamed:0 | 15                                                                                                                    \n",
      " char      | SMEAGOL                                                                                                               \n",
      " dialog    | And we forgot the taste of bread, the sound of trees and the softness of     the wind. We even forgot our own name.   \n",
      " movie     | The Return of the King                                                                                                \n",
      "-RECORD 16-------------------------------------------------------------------------------------------------------------------------\n",
      " Unnamed:0 | 16                                                                                                                    \n",
      " char      | FRODO                                                                                                                 \n",
      " dialog    |     Gandalf?                                                                                                          \n",
      " movie     | The Return of the King                                                                                                \n",
      "-RECORD 17-------------------------------------------------------------------------------------------------------------------------\n",
      " Unnamed:0 | 17                                                                                                                    \n",
      " char      | FRODO                                                                                                                 \n",
      " dialog    |     Oooohhh!                                                                                                          \n",
      " movie     | The Return of the King                                                                                                \n",
      "-RECORD 18-------------------------------------------------------------------------------------------------------------------------\n",
      " Unnamed:0 | 18                                                                                                                    \n",
      " char      | MERRY                                                                                                                 \n",
      " dialog    |     Frodo!                                                                                                            \n",
      " movie     | The Return of the King                                                                                                \n",
      "-RECORD 19-------------------------------------------------------------------------------------------------------------------------\n",
      " Unnamed:0 | 19                                                                                                                    \n",
      " char      | GIMLI                                                                                                                 \n",
      " dialog    |     Aaaahh!                                                                                                           \n",
      " movie     | The Return of the King                                                                                                \n",
      "only showing top 20 rows\n",
      "\n"
     ]
    }
   ],
   "source": [
    "df_lotr.show(vertical=True,truncate=False)"
   ]
  },
  {
   "cell_type": "code",
   "execution_count": 6,
   "metadata": {},
   "outputs": [
    {
     "name": "stderr",
     "output_type": "stream",
     "text": [
      "                                                                                \r"
     ]
    }
   ],
   "source": [
    "(\n",
    "    df_lotr\n",
    "    .write\n",
    "    .format('delta')\n",
    "    .mode('overwrite')\n",
    "    .save('../datalake/bronze/lotr')\n",
    ")"
   ]
  },
  {
   "cell_type": "code",
   "execution_count": 7,
   "metadata": {},
   "outputs": [
    {
     "name": "stdout",
     "output_type": "stream",
     "text": [
      "+---------+-------+--------------------+--------------------+\n",
      "|Unnamed:0|   char|              dialog|               movie|\n",
      "+---------+-------+--------------------+--------------------+\n",
      "|        0| DEAGOL|Oh Smeagol Ive go...|The Return of the...|\n",
      "|        1|SMEAGOL|Pull it in! Go on...|The Return of the...|\n",
      "|        2| DEAGOL|            Arrghh! |The Return of the...|\n",
      "|        3|SMEAGOL|           Deagol!  |The Return of the...|\n",
      "|        4|SMEAGOL|           Deagol!  |The Return of the...|\n",
      "|        5|SMEAGOL|           Deagol!  |The Return of the...|\n",
      "|        6|SMEAGOL|Give us that! Dea...|The Return of the...|\n",
      "|        7| DEAGOL|              Why?  |The Return of the...|\n",
      "|        8|SMEAGOL|Because' , it's m...|The Return of the...|\n",
      "|        9|SMEAGOL|      My precious.  |The Return of the...|\n",
      "|       10|SMEAGOL|     They cursed us |The Return of the...|\n",
      "|       11|(GOLLUM|          Murderer) |The Return of the...|\n",
      "|       12|SMEAGOL|'Murderer' they c...|The Return of the...|\n",
      "|       13|SMEAGOL|Gollum' Gollum' G...|The Return of the...|\n",
      "|       14|SMEAGOL|and cool, so nice...|The Return of the...|\n",
      "|       15|SMEAGOL|And we forgot the...|The Return of the...|\n",
      "|       16|  FRODO|    Gandalf?        |The Return of the...|\n",
      "|       17|  FRODO|           Oooohhh! |The Return of the...|\n",
      "|       18|  MERRY|            Frodo!  |The Return of the...|\n",
      "|       19|  GIMLI|           Aaaahh!  |The Return of the...|\n",
      "+---------+-------+--------------------+--------------------+\n",
      "only showing top 20 rows\n",
      "\n"
     ]
    },
    {
     "name": "stderr",
     "output_type": "stream",
     "text": [
      "22/11/03 07:47:16 WARN HeartbeatReceiver: Removing executor driver with no recent heartbeats: 31446718 ms exceeds timeout 120000 ms\n",
      "22/11/03 07:47:16 WARN SparkContext: Killing executors is not supported by current scheduler.\n"
     ]
    }
   ],
   "source": [
    "df_lotr.show()"
   ]
  }
 ],
 "metadata": {
  "kernelspec": {
   "display_name": "Python 3.8.10 64-bit",
   "language": "python",
   "name": "python3"
  },
  "language_info": {
   "codemirror_mode": {
    "name": "ipython",
    "version": 3
   },
   "file_extension": ".py",
   "mimetype": "text/x-python",
   "name": "python",
   "nbconvert_exporter": "python",
   "pygments_lexer": "ipython3",
   "version": "3.10.8"
  },
  "orig_nbformat": 4,
  "vscode": {
   "interpreter": {
    "hash": "916dbcbb3f70747c44a77c7bcd40155683ae19c65e1c03b4aa3499c5328201f1"
   }
  }
 },
 "nbformat": 4,
 "nbformat_minor": 2
}
