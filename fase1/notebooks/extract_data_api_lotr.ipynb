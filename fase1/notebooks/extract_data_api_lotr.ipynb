{
 "cells": [
  {
   "cell_type": "code",
   "execution_count": 25,
   "metadata": {},
   "outputs": [],
   "source": [
    "import requests\n",
    "import pandas as pd\n",
    "from datetime import datetime"
   ]
  },
  {
   "cell_type": "code",
   "execution_count": 26,
   "metadata": {},
   "outputs": [],
   "source": [
    "def get_data_from_api(\n",
    "    \n",
    "    url: str = 'https://raw.githubusercontent.com/tianyigu/Lord_of_the_ring_project/master/LOTR_code/script.csv'\n",
    "    \n",
    "    ) -> str:\n",
    "\n",
    "    data_list = []\n",
    "\n",
    "    for i in range(0,1):\n",
    "        req    = requests.get('https://raw.githubusercontent.com/tianyigu/Lord_of_the_ring_project/master/LOTR_code/script.csv')\n",
    "        data   = req.json()\n",
    "        slip   = data.get('char')\n",
    "        data_list.append(slip)\n",
    "    \n",
    "    df = pd.DataFrame.from_records(data_list)\n",
    "    \n",
    "    return df"
   ]
  },
  {
   "cell_type": "code",
   "execution_count": 27,
   "metadata": {},
   "outputs": [],
   "source": [
    "## Criação para os csv de lotr \n",
    "df = pd.read_csv('https://raw.githubusercontent.com/tianyigu/Lord_of_the_ring_project/master/LOTR_code/script.csv')"
   ]
  },
  {
   "cell_type": "code",
   "execution_count": 28,
   "metadata": {},
   "outputs": [],
   "source": [
    "df.rename( columns={'Unnamed: 0':'Unnamed:0'}, inplace=True)"
   ]
  },
  {
   "cell_type": "code",
   "execution_count": 29,
   "metadata": {},
   "outputs": [],
   "source": [
    "## Criação para os csv Lotr\n",
    "def write_csv_in_datalake(df):\n",
    "    \n",
    "    delta = datetime.now().strftime('%y_%m_%d_%H_%M_%S')\n",
    "    df.to_csv(f'../datalake/landing-zone/lotr/lotr-{delta}.csv', index=False)\n",
    "    \n",
    "    return 'Escrito com sucesso!'"
   ]
  },
  {
   "cell_type": "code",
   "execution_count": 30,
   "metadata": {},
   "outputs": [
    {
     "data": {
      "text/plain": [
       "'Escrito com sucesso!'"
      ]
     },
     "execution_count": 30,
     "metadata": {},
     "output_type": "execute_result"
    }
   ],
   "source": [
    "## Criação para os csv advices e Lotr\n",
    "write_csv_in_datalake(df)"
   ]
  }
 ],
 "metadata": {
  "kernelspec": {
   "display_name": "Python 3.10.8 64-bit",
   "language": "python",
   "name": "python3"
  },
  "language_info": {
   "codemirror_mode": {
    "name": "ipython",
    "version": 3
   },
   "file_extension": ".py",
   "mimetype": "text/x-python",
   "name": "python",
   "nbconvert_exporter": "python",
   "pygments_lexer": "ipython3",
   "version": "3.10.8"
  },
  "orig_nbformat": 4,
  "vscode": {
   "interpreter": {
    "hash": "97cc609b13305c559618ec78a438abc56230b9381f827f22d070313b9a1f3777"
   }
  }
 },
 "nbformat": 4,
 "nbformat_minor": 2
}
