{
 "cells": [
  {
   "cell_type": "code",
   "execution_count": 70,
   "metadata": {},
   "outputs": [],
   "source": [
    "import pyspark.sql.functions as f\n",
    "import pyspark.sql.types     as t\n",
    "from pyspark.sql import SparkSession"
   ]
  },
  {
   "cell_type": "code",
   "execution_count": 71,
   "metadata": {
    "id": "zxPiWcDeLVek"
   },
   "outputs": [],
   "source": [
    "spark = (\n",
    "    SparkSession.builder\n",
    "                    .config(\"spark.executor.memory\", \"4G\")\n",
    "                    .config(\"spark.sql.repl.eagerEval.enabled\", True)\n",
    "                    .config(\"spark.sql.repl.eagerEval.maxNumRows\", 10)\n",
    "                    .appName(\"how to use spark\")\n",
    "                    .getOrCreate()\n",
    ")"
   ]
  },
  {
   "cell_type": "code",
   "execution_count": 72,
   "metadata": {
    "colab": {
     "base_uri": "https://localhost:8080/",
     "height": 216
    },
    "id": "duEd_7UImEoj",
    "outputId": "a7d518bb-7a74-4099-d1ee-f9ad0ba26dff"
   },
   "outputs": [
    {
     "data": {
      "text/html": [
       "\n",
       "            <div>\n",
       "                <p><b>SparkSession - in-memory</b></p>\n",
       "                \n",
       "        <div>\n",
       "            <p><b>SparkContext</b></p>\n",
       "\n",
       "            <p><a href=\"http://172.18.133.1:4040\">Spark UI</a></p>\n",
       "\n",
       "            <dl>\n",
       "              <dt>Version</dt>\n",
       "                <dd><code>v3.2.1</code></dd>\n",
       "              <dt>Master</dt>\n",
       "                <dd><code>local[*]</code></dd>\n",
       "              <dt>AppName</dt>\n",
       "                <dd><code>how to use spark</code></dd>\n",
       "            </dl>\n",
       "        </div>\n",
       "        \n",
       "            </div>\n",
       "        "
      ],
      "text/plain": [
       "<pyspark.sql.session.SparkSession at 0x7f9e223047f0>"
      ]
     },
     "execution_count": 72,
     "metadata": {},
     "output_type": "execute_result"
    }
   ],
   "source": [
    "spark"
   ]
  },
  {
   "cell_type": "code",
   "execution_count": 73,
   "metadata": {
    "id": "UoSLA6UkONms"
   },
   "outputs": [],
   "source": [
    "file_path_parquet = \"./data-parquet/\"\n",
    "file_path_parquet_user = \"./data-user-parquet/\"\n",
    "file_path_csv = \"./data-csv/\""
   ]
  },
  {
   "cell_type": "markdown",
   "metadata": {},
   "source": [
    "## Lendo Arquivos [Parquet]"
   ]
  },
  {
   "cell_type": "code",
   "execution_count": 74,
   "metadata": {},
   "outputs": [
    {
     "data": {
      "text/plain": [
       "'./data-parquet/'"
      ]
     },
     "execution_count": 74,
     "metadata": {},
     "output_type": "execute_result"
    }
   ],
   "source": [
    "file_path_parquet"
   ]
  },
  {
   "cell_type": "code",
   "execution_count": 75,
   "metadata": {},
   "outputs": [],
   "source": [
    "df_parquet = (\n",
    "    spark\n",
    "    .read\n",
    "    .format(\"parquet\")\n",
    "    .load(file_path_parquet)\n",
    ")"
   ]
  },
  {
   "cell_type": "code",
   "execution_count": 76,
   "metadata": {},
   "outputs": [
    {
     "data": {
      "text/html": [
       "<table border='1'>\n",
       "<tr><th>Unnamed:0</th><th>char</th><th>dialog</th><th>movie</th></tr>\n",
       "<tr><td>0</td><td>DEAGOL</td><td>Oh Smeagol Ive go...</td><td>The Return of the...</td></tr>\n",
       "<tr><td>1</td><td>SMEAGOL</td><td>Pull it in! Go on...</td><td>The Return of the...</td></tr>\n",
       "<tr><td>2</td><td>DEAGOL</td><td>Arrghh! </td><td>The Return of the...</td></tr>\n",
       "<tr><td>3</td><td>SMEAGOL</td><td>Deagol!  </td><td>The Return of the...</td></tr>\n",
       "<tr><td>4</td><td>SMEAGOL</td><td>Deagol!  </td><td>The Return of the...</td></tr>\n",
       "<tr><td>5</td><td>SMEAGOL</td><td>Deagol!  </td><td>The Return of the...</td></tr>\n",
       "<tr><td>6</td><td>SMEAGOL</td><td>Give us that! Dea...</td><td>The Return of the...</td></tr>\n",
       "<tr><td>7</td><td>DEAGOL</td><td>Why?  </td><td>The Return of the...</td></tr>\n",
       "<tr><td>8</td><td>SMEAGOL</td><td>Because&#x27; , it&#x27;s m...</td><td>The Return of the...</td></tr>\n",
       "<tr><td>9</td><td>SMEAGOL</td><td> My precious.  </td><td>The Return of the...</td></tr>\n",
       "</table>\n",
       "only showing top 10 rows\n"
      ],
      "text/plain": [
       "+---------+-------+--------------------+--------------------+\n",
       "|Unnamed:0|   char|              dialog|               movie|\n",
       "+---------+-------+--------------------+--------------------+\n",
       "|        0| DEAGOL|Oh Smeagol Ive go...|The Return of the...|\n",
       "|        1|SMEAGOL|Pull it in! Go on...|The Return of the...|\n",
       "|        2| DEAGOL|            Arrghh! |The Return of the...|\n",
       "|        3|SMEAGOL|           Deagol!  |The Return of the...|\n",
       "|        4|SMEAGOL|           Deagol!  |The Return of the...|\n",
       "|        5|SMEAGOL|           Deagol!  |The Return of the...|\n",
       "|        6|SMEAGOL|Give us that! Dea...|The Return of the...|\n",
       "|        7| DEAGOL|              Why?  |The Return of the...|\n",
       "|        8|SMEAGOL|Because' , it's m...|The Return of the...|\n",
       "|        9|SMEAGOL|      My precious.  |The Return of the...|\n",
       "+---------+-------+--------------------+--------------------+\n",
       "only showing top 10 rows"
      ]
     },
     "execution_count": 76,
     "metadata": {},
     "output_type": "execute_result"
    }
   ],
   "source": [
    "df_parquet"
   ]
  },
  {
   "cell_type": "markdown",
   "metadata": {},
   "source": [
    "## Lendo Arquivos [CSV]"
   ]
  },
  {
   "cell_type": "code",
   "execution_count": 77,
   "metadata": {},
   "outputs": [],
   "source": [
    "df_csv = spark.read.format(\"csv\").option(\"header\", True).option(\"inferSchema\", True).load(file_path_csv)"
   ]
  },
  {
   "cell_type": "code",
   "execution_count": 78,
   "metadata": {},
   "outputs": [
    {
     "name": "stdout",
     "output_type": "stream",
     "text": [
      "root\n",
      " |-- Unnamed:0: integer (nullable = true)\n",
      " |-- char: string (nullable = true)\n",
      " |-- dialog: string (nullable = true)\n",
      " |-- movie: string (nullable = true)\n",
      "\n"
     ]
    }
   ],
   "source": [
    "df_csv.printSchema()"
   ]
  },
  {
   "cell_type": "markdown",
   "metadata": {},
   "source": [
    "### Corrigindo a leitura do Dataframe em CSV"
   ]
  },
  {
   "cell_type": "code",
   "execution_count": 79,
   "metadata": {},
   "outputs": [],
   "source": [
    "args_dict = {\n",
    "    'header': True,\n",
    "    'sep': ',',\n",
    "    'encoding': 'utf-8',\n",
    "    'inferSchema': True,\n",
    "}\n",
    "\n",
    "df_csv = spark.read.format(\"csv\").options(**args_dict).load(file_path_csv)"
   ]
  },
  {
   "cell_type": "code",
   "execution_count": 80,
   "metadata": {},
   "outputs": [
    {
     "data": {
      "text/html": [
       "<table border='1'>\n",
       "<tr><th>Unnamed:0</th><th>char</th><th>dialog</th><th>movie</th></tr>\n",
       "<tr><td>0</td><td>DEAGOL</td><td>Oh Smeagol Ive go...</td><td>The Return of the...</td></tr>\n",
       "<tr><td>1</td><td>SMEAGOL</td><td>Pull it in! Go on...</td><td>The Return of the...</td></tr>\n",
       "<tr><td>2</td><td>DEAGOL</td><td>Arrghh! </td><td>The Return of the...</td></tr>\n",
       "<tr><td>3</td><td>SMEAGOL</td><td>Deagol!  </td><td>The Return of the...</td></tr>\n",
       "<tr><td>4</td><td>SMEAGOL</td><td>Deagol!  </td><td>The Return of the...</td></tr>\n",
       "<tr><td>5</td><td>SMEAGOL</td><td>Deagol!  </td><td>The Return of the...</td></tr>\n",
       "<tr><td>6</td><td>SMEAGOL</td><td>Give us that! Dea...</td><td>The Return of the...</td></tr>\n",
       "<tr><td>7</td><td>DEAGOL</td><td>Why?  </td><td>The Return of the...</td></tr>\n",
       "<tr><td>8</td><td>SMEAGOL</td><td>Because&#x27; , it&#x27;s m...</td><td>The Return of the...</td></tr>\n",
       "<tr><td>9</td><td>SMEAGOL</td><td> My precious.  </td><td>The Return of the...</td></tr>\n",
       "</table>\n",
       "only showing top 10 rows\n"
      ],
      "text/plain": [
       "+---------+-------+--------------------+--------------------+\n",
       "|Unnamed:0|   char|              dialog|               movie|\n",
       "+---------+-------+--------------------+--------------------+\n",
       "|        0| DEAGOL|Oh Smeagol Ive go...|The Return of the...|\n",
       "|        1|SMEAGOL|Pull it in! Go on...|The Return of the...|\n",
       "|        2| DEAGOL|            Arrghh! |The Return of the...|\n",
       "|        3|SMEAGOL|           Deagol!  |The Return of the...|\n",
       "|        4|SMEAGOL|           Deagol!  |The Return of the...|\n",
       "|        5|SMEAGOL|           Deagol!  |The Return of the...|\n",
       "|        6|SMEAGOL|Give us that! Dea...|The Return of the...|\n",
       "|        7| DEAGOL|              Why?  |The Return of the...|\n",
       "|        8|SMEAGOL|Because' , it's m...|The Return of the...|\n",
       "|        9|SMEAGOL|      My precious.  |The Return of the...|\n",
       "+---------+-------+--------------------+--------------------+\n",
       "only showing top 10 rows"
      ]
     },
     "execution_count": 80,
     "metadata": {},
     "output_type": "execute_result"
    }
   ],
   "source": [
    "df_csv"
   ]
  },
  {
   "cell_type": "markdown",
   "metadata": {},
   "source": [
    "## Filtros no Spark"
   ]
  },
  {
   "cell_type": "markdown",
   "metadata": {},
   "source": [
    "Vamos utilizar a função `col()` para nos referirmos às colunas. Existem outras maneiras de fazermos isso, mas essa é a melhor forma. (justificativa adiante).\n",
    "\n",
    "Operadores lógicos:\n",
    "* e: &\n",
    "* ou: |\n",
    "* não: ~\n",
    "\n",
    "Para fazer o filtro, pode ser utilizado tanto a função `filter()` como `where()`."
   ]
  },
  {
   "cell_type": "markdown",
   "metadata": {},
   "source": [
    "### Filtros com uma única condição"
   ]
  },
  {
   "cell_type": "code",
   "execution_count": 82,
   "metadata": {},
   "outputs": [
    {
     "data": {
      "text/html": [
       "<table border='1'>\n",
       "<tr><th>char</th><th>movie</th></tr>\n",
       "<tr><td>SMEAGOL</td><td>The Return of the...</td></tr>\n",
       "<tr><td>SMEAGOL</td><td>The Return of the...</td></tr>\n",
       "<tr><td>SMEAGOL</td><td>The Return of the...</td></tr>\n",
       "<tr><td>SMEAGOL</td><td>The Return of the...</td></tr>\n",
       "<tr><td>SMEAGOL</td><td>The Return of the...</td></tr>\n",
       "<tr><td>SMEAGOL</td><td>The Return of the...</td></tr>\n",
       "<tr><td>SMEAGOL</td><td>The Return of the...</td></tr>\n",
       "<tr><td>SMEAGOL</td><td>The Return of the...</td></tr>\n",
       "<tr><td>SMEAGOL</td><td>The Return of the...</td></tr>\n",
       "<tr><td>SMEAGOL</td><td>The Return of the...</td></tr>\n",
       "</table>\n",
       "only showing top 10 rows\n"
      ],
      "text/plain": [
       "+-------+--------------------+\n",
       "|   char|               movie|\n",
       "+-------+--------------------+\n",
       "|SMEAGOL|The Return of the...|\n",
       "|SMEAGOL|The Return of the...|\n",
       "|SMEAGOL|The Return of the...|\n",
       "|SMEAGOL|The Return of the...|\n",
       "|SMEAGOL|The Return of the...|\n",
       "|SMEAGOL|The Return of the...|\n",
       "|SMEAGOL|The Return of the...|\n",
       "|SMEAGOL|The Return of the...|\n",
       "|SMEAGOL|The Return of the...|\n",
       "|SMEAGOL|The Return of the...|\n",
       "+-------+--------------------+\n",
       "only showing top 10 rows"
      ]
     },
     "execution_count": 82,
     "metadata": {},
     "output_type": "execute_result"
    }
   ],
   "source": [
    "#Consulta no df_parquet\n",
    "(\n",
    "    df_parquet.filter(f.col(\"char\") == \"SMEAGOL\")\n",
    "    .select(\"char\",\t\"movie\")\n",
    ")"
   ]
  },
  {
   "cell_type": "code",
   "execution_count": 83,
   "metadata": {},
   "outputs": [
    {
     "data": {
      "text/html": [
       "<table border='1'>\n",
       "<tr><th>Unnamed:0</th><th>char</th><th>dialog</th><th>movie</th></tr>\n",
       "<tr><td>1</td><td>SMEAGOL</td><td>Pull it in! Go on...</td><td>The Return of the...</td></tr>\n",
       "<tr><td>3</td><td>SMEAGOL</td><td>Deagol!  </td><td>The Return of the...</td></tr>\n",
       "<tr><td>4</td><td>SMEAGOL</td><td>Deagol!  </td><td>The Return of the...</td></tr>\n",
       "<tr><td>5</td><td>SMEAGOL</td><td>Deagol!  </td><td>The Return of the...</td></tr>\n",
       "<tr><td>6</td><td>SMEAGOL</td><td>Give us that! Dea...</td><td>The Return of the...</td></tr>\n",
       "<tr><td>8</td><td>SMEAGOL</td><td>Because&#x27; , it&#x27;s m...</td><td>The Return of the...</td></tr>\n",
       "<tr><td>9</td><td>SMEAGOL</td><td> My precious.  </td><td>The Return of the...</td></tr>\n",
       "<tr><td>10</td><td>SMEAGOL</td><td>They cursed us </td><td>The Return of the...</td></tr>\n",
       "<tr><td>12</td><td>SMEAGOL</td><td>&#x27;Murderer&#x27; they c...</td><td>The Return of the...</td></tr>\n",
       "<tr><td>13</td><td>SMEAGOL</td><td>Gollum&#x27; Gollum&#x27; G...</td><td>The Return of the...</td></tr>\n",
       "</table>\n",
       "only showing top 10 rows\n"
      ],
      "text/plain": [
       "+---------+-------+--------------------+--------------------+\n",
       "|Unnamed:0|   char|              dialog|               movie|\n",
       "+---------+-------+--------------------+--------------------+\n",
       "|        1|SMEAGOL|Pull it in! Go on...|The Return of the...|\n",
       "|        3|SMEAGOL|           Deagol!  |The Return of the...|\n",
       "|        4|SMEAGOL|           Deagol!  |The Return of the...|\n",
       "|        5|SMEAGOL|           Deagol!  |The Return of the...|\n",
       "|        6|SMEAGOL|Give us that! Dea...|The Return of the...|\n",
       "|        8|SMEAGOL|Because' , it's m...|The Return of the...|\n",
       "|        9|SMEAGOL|      My precious.  |The Return of the...|\n",
       "|       10|SMEAGOL|     They cursed us |The Return of the...|\n",
       "|       12|SMEAGOL|'Murderer' they c...|The Return of the...|\n",
       "|       13|SMEAGOL|Gollum' Gollum' G...|The Return of the...|\n",
       "+---------+-------+--------------------+--------------------+\n",
       "only showing top 10 rows"
      ]
     },
     "execution_count": 83,
     "metadata": {},
     "output_type": "execute_result"
    }
   ],
   "source": [
    "#Consulta no df_csv\n",
    "(\n",
    "    df_csv.filter(f.col(\"char\") == \"SMEAGOL\")\n",
    "    .select(\"Unnamed:0\", \"char\",\"dialog\", \"movie\")\n",
    ")"
   ]
  },
  {
   "cell_type": "markdown",
   "metadata": {},
   "source": [
    "###  Filtros com duas ou mais condição"
   ]
  },
  {
   "cell_type": "code",
   "execution_count": 85,
   "metadata": {},
   "outputs": [
    {
     "data": {
      "text/html": [
       "<table border='1'>\n",
       "<tr><th>Unnamed:0</th><th>char</th><th>dialog</th><th>movie</th></tr>\n",
       "</table>\n"
      ],
      "text/plain": [
       "+---------+----+------+-----+\n",
       "|Unnamed:0|char|dialog|movie|\n",
       "+---------+----+------+-----+\n",
       "+---------+----+------+-----+"
      ]
     },
     "execution_count": 85,
     "metadata": {},
     "output_type": "execute_result"
    }
   ],
   "source": [
    "#Consulta no df_Parquet\n",
    "(\n",
    "    df_parquet.filter(\n",
    "        (f.col('char') == \"SMEAGOL\") \n",
    "        & \n",
    "        (f.col('movie') == \"The Return of the King\")\n",
    "    )\n",
    ")"
   ]
  },
  {
   "cell_type": "code",
   "execution_count": null,
   "metadata": {},
   "outputs": [],
   "source": [
    "#Consulta no df_csv\n",
    "(\n",
    "    df_csv.filter(\n",
    "        (f.col('char') == \"SMEAGOL\") \n",
    "        & \n",
    "        (f.col('movie') == \"The Return of the King\")\n",
    "    )   \n",
    ")"
   ]
  },
  {
   "cell_type": "markdown",
   "metadata": {},
   "source": [
    "###  Visualizando os Schemas das arquiteturas."
   ]
  },
  {
   "cell_type": "code",
   "execution_count": 86,
   "metadata": {},
   "outputs": [
    {
     "name": "stdout",
     "output_type": "stream",
     "text": [
      "root\n",
      " |-- Unnamed:0: string (nullable = true)\n",
      " |-- char: string (nullable = true)\n",
      " |-- dialog: string (nullable = true)\n",
      " |-- movie: string (nullable = true)\n",
      "\n"
     ]
    },
    {
     "data": {
      "text/plain": [
       "StructType(List(StructField(Unnamed:0,StringType,true),StructField(char,StringType,true),StructField(dialog,StringType,true),StructField(movie,StringType,true)))"
      ]
     },
     "execution_count": 86,
     "metadata": {},
     "output_type": "execute_result"
    }
   ],
   "source": [
    "df_parquet.printSchema()\n",
    "df_parquet.dtypes\n",
    "df_parquet.schema\n"
   ]
  },
  {
   "cell_type": "code",
   "execution_count": 87,
   "metadata": {},
   "outputs": [
    {
     "name": "stdout",
     "output_type": "stream",
     "text": [
      "root\n",
      " |-- Unnamed:0: integer (nullable = true)\n",
      " |-- char: string (nullable = true)\n",
      " |-- dialog: string (nullable = true)\n",
      " |-- movie: string (nullable = true)\n",
      "\n"
     ]
    },
    {
     "data": {
      "text/plain": [
       "StructType(List(StructField(Unnamed:0,IntegerType,true),StructField(char,StringType,true),StructField(dialog,StringType,true),StructField(movie,StringType,true)))"
      ]
     },
     "execution_count": 87,
     "metadata": {},
     "output_type": "execute_result"
    }
   ],
   "source": [
    "df_csv.printSchema()\n",
    "df_csv.dtypes\n",
    "df_csv.schema"
   ]
  },
  {
   "cell_type": "markdown",
   "metadata": {
    "id": "PSV1hD3korXQ"
   },
   "source": [
    "### Definindo um schema\n",
    "Da maneira trabalhosa:"
   ]
  },
  {
   "cell_type": "markdown",
   "metadata": {
    "id": "GDNwdmQNozWX"
   },
   "source": [
    "Da maneira simples e rápida:"
   ]
  },
  {
   "cell_type": "code",
   "execution_count": 88,
   "metadata": {
    "colab": {
     "base_uri": "https://localhost:8080/"
    },
    "id": "uOlK86ihkYc-",
    "outputId": "1a91ed13-bd45-48ff-a2f9-5e562f5baa3a"
   },
   "outputs": [
    {
     "data": {
      "text/plain": [
       "StructType(List(StructField(Unnamed:0,StringType,true),StructField(char,StringType,true),StructField(dialog,StringType,true),StructField(movie,StringType,true)))"
      ]
     },
     "execution_count": 88,
     "metadata": {},
     "output_type": "execute_result"
    }
   ],
   "source": [
    "cols = [\"Unnamed:0\", \"char\",\"dialog\", \"movie\"]\n",
    "schema = t.StructType([t.StructField(c, t.StringType()) for c in cols])\n",
    "schema"
   ]
  },
  {
   "cell_type": "markdown",
   "metadata": {
    "id": "uIJlW7PU5IaF"
   },
   "source": [
    "## Olhando para os dados"
   ]
  },
  {
   "cell_type": "code",
   "execution_count": 89,
   "metadata": {},
   "outputs": [
    {
     "data": {
      "text/html": [
       "<table border='1'>\n",
       "<tr><th>summary</th><th>Unnamed:0</th><th>char</th><th>dialog</th><th>movie</th></tr>\n",
       "<tr><td>count</td><td>399</td><td>399</td><td>399</td><td>399</td></tr>\n",
       "<tr><td>mean</td><td>99.70676691729324</td><td>null</td><td>null</td><td>null</td></tr>\n",
       "<tr><td>stddev</td><td>57.73089302418732</td><td>null</td><td>null</td><td>null</td></tr>\n",
       "<tr><td>min</td><td>0</td><td>(GOLLUM</td><td>    ,     Go back...</td><td>The Return of the...</td></tr>\n",
       "<tr><td>max</td><td>199</td><td> GANDALF</td><td> My precious.  </td><td>The Return of the...</td></tr>\n",
       "</table>\n"
      ],
      "text/plain": [
       "+-------+-----------------+--------+--------------------+--------------------+\n",
       "|summary|        Unnamed:0|    char|              dialog|               movie|\n",
       "+-------+-----------------+--------+--------------------+--------------------+\n",
       "|  count|              399|     399|                 399|                 399|\n",
       "|   mean|99.70676691729324|    null|                null|                null|\n",
       "| stddev|57.73089302418732|    null|                null|                null|\n",
       "|    min|                0| (GOLLUM|    ,     Go back...|The Return of the...|\n",
       "|    max|              199| GANDALF|      My precious.  |The Return of the...|\n",
       "+-------+-----------------+--------+--------------------+--------------------+"
      ]
     },
     "execution_count": 89,
     "metadata": {},
     "output_type": "execute_result"
    }
   ],
   "source": [
    "# Olhando para os dados no df_csv\n",
    "df_csv.describe()"
   ]
  },
  {
   "cell_type": "code",
   "execution_count": 90,
   "metadata": {},
   "outputs": [
    {
     "data": {
      "text/html": [
       "<table border='1'>\n",
       "<tr><th>summary</th><th>Unnamed:0</th><th>char</th><th>dialog</th><th>movie</th></tr>\n",
       "<tr><td>count</td><td>7569</td><td>7569</td><td>7566</td><td>7569</td></tr>\n",
       "<tr><td>mean</td><td>1136.78795085216</td><td>null</td><td>null</td><td>null</td></tr>\n",
       "<tr><td>stddev</td><td>714.8498512362687</td><td>null</td><td>null</td><td>null</td></tr>\n",
       "<tr><td>min</td><td>0</td><td>(GOLLUM</td><td>     </td><td>      &quot;&quot;Yes! That...</td></tr>\n",
       "<tr><td>max</td><td>999</td><td> GANDALF</td><td> You&#x27;re a daughte...</td><td>The Two Towers </td></tr>\n",
       "</table>\n"
      ],
      "text/plain": [
       "+-------+-----------------+--------+--------------------+--------------------+\n",
       "|summary|        Unnamed:0|    char|              dialog|               movie|\n",
       "+-------+-----------------+--------+--------------------+--------------------+\n",
       "|  count|             7569|    7569|                7566|                7569|\n",
       "|   mean| 1136.78795085216|    null|                null|                null|\n",
       "| stddev|714.8498512362687|    null|                null|                null|\n",
       "|    min|                0| (GOLLUM|                    |      \"\"Yes! That...|\n",
       "|    max|              999| GANDALF| You're a daughte...|     The Two Towers |\n",
       "+-------+-----------------+--------+--------------------+--------------------+"
      ]
     },
     "execution_count": 90,
     "metadata": {},
     "output_type": "execute_result"
    }
   ],
   "source": [
    "# Olhando para os dados no df_parquet\n",
    "df_parquet.describe()"
   ]
  },
  {
   "cell_type": "markdown",
   "metadata": {},
   "source": [
    "## Contagem de linhas "
   ]
  },
  {
   "cell_type": "code",
   "execution_count": 91,
   "metadata": {
    "colab": {
     "base_uri": "https://localhost:8080/"
    },
    "id": "OwWJfRRx5lSZ",
    "outputId": "1d788b4c-3497-4a9a-c78e-0447038b3fa5"
   },
   "outputs": [
    {
     "name": "stdout",
     "output_type": "stream",
     "text": [
      "Número de Linhas:  7612 \n",
      " Número de Colunas:  4 \n",
      "\n",
      "root\n",
      " |-- Unnamed:0: string (nullable = true)\n",
      " |-- char: string (nullable = true)\n",
      " |-- dialog: string (nullable = true)\n",
      " |-- movie: string (nullable = true)\n",
      "\n"
     ]
    }
   ],
   "source": [
    "# Contagem de linhas df_parquet\n",
    "print('Número de Linhas: ', df_parquet.count(), '\\n',\n",
    "      'Número de Colunas: ', len(df_parquet.columns), '\\n')\n",
    "df_parquet.printSchema()"
   ]
  },
  {
   "cell_type": "code",
   "execution_count": 92,
   "metadata": {},
   "outputs": [
    {
     "name": "stdout",
     "output_type": "stream",
     "text": [
      "Número de Linhas:  399 \n",
      " Número de Colunas:  4 \n",
      "\n",
      "root\n",
      " |-- Unnamed:0: integer (nullable = true)\n",
      " |-- char: string (nullable = true)\n",
      " |-- dialog: string (nullable = true)\n",
      " |-- movie: string (nullable = true)\n",
      "\n"
     ]
    }
   ],
   "source": [
    "# Contagem de Linhas no df_csv\n",
    "print('Número de Linhas: ', df_csv.count(), '\\n',\n",
    "      'Número de Colunas: ', len(df_csv.columns), '\\n')\n",
    "df_csv.printSchema()"
   ]
  },
  {
   "cell_type": "markdown",
   "metadata": {
    "id": "OVHbwVw3qDXs"
   },
   "source": [
    "# Manipulação dos Dados"
   ]
  },
  {
   "cell_type": "markdown",
   "metadata": {
    "id": "vWBHPYUHUs5S"
   },
   "source": [
    "O design do pyspark.sql, obviamente, é baseado no SQL para o processamento de dados estruturados. Assim, muitas funções tem nomes parecidos e/ou funcionam da mesma forma que seus análogos em sql puro. \n",
    "\n",
    "Inclusive, é possível operar em um DataFrame utilizando somente SQL"
   ]
  },
  {
   "cell_type": "markdown",
   "metadata": {
    "id": "zj5bT_TFmwQy"
   },
   "source": [
    "### Seleção de Colunas"
   ]
  },
  {
   "cell_type": "code",
   "execution_count": 93,
   "metadata": {
    "colab": {
     "base_uri": "https://localhost:8080/",
     "height": 359
    },
    "id": "weKxO-bzp_ss",
    "outputId": "aed143d5-603d-4a8f-f024-975fe8f614d6"
   },
   "outputs": [
    {
     "data": {
      "text/html": [
       "<table border='1'>\n",
       "<tr><th>char</th><th>dialog</th></tr>\n",
       "<tr><td>DEAGOL</td><td>Oh Smeagol Ive go...</td></tr>\n",
       "<tr><td>SMEAGOL</td><td>Pull it in! Go on...</td></tr>\n",
       "<tr><td>DEAGOL</td><td>Arrghh! </td></tr>\n",
       "<tr><td>SMEAGOL</td><td>Deagol!  </td></tr>\n",
       "<tr><td>SMEAGOL</td><td>Deagol!  </td></tr>\n",
       "<tr><td>SMEAGOL</td><td>Deagol!  </td></tr>\n",
       "<tr><td>SMEAGOL</td><td>Give us that! Dea...</td></tr>\n",
       "<tr><td>DEAGOL</td><td>Why?  </td></tr>\n",
       "<tr><td>SMEAGOL</td><td>Because&#x27; , it&#x27;s m...</td></tr>\n",
       "<tr><td>SMEAGOL</td><td> My precious.  </td></tr>\n",
       "</table>\n",
       "only showing top 10 rows\n"
      ],
      "text/plain": [
       "+-------+--------------------+\n",
       "|   char|              dialog|\n",
       "+-------+--------------------+\n",
       "| DEAGOL|Oh Smeagol Ive go...|\n",
       "|SMEAGOL|Pull it in! Go on...|\n",
       "| DEAGOL|            Arrghh! |\n",
       "|SMEAGOL|           Deagol!  |\n",
       "|SMEAGOL|           Deagol!  |\n",
       "|SMEAGOL|           Deagol!  |\n",
       "|SMEAGOL|Give us that! Dea...|\n",
       "| DEAGOL|              Why?  |\n",
       "|SMEAGOL|Because' , it's m...|\n",
       "|SMEAGOL|      My precious.  |\n",
       "+-------+--------------------+\n",
       "only showing top 10 rows"
      ]
     },
     "execution_count": 93,
     "metadata": {},
     "output_type": "execute_result"
    }
   ],
   "source": [
    "# Select das Colunas no df_parquet\n",
    "df_parquet.select(\"char\",\"dialog\")"
   ]
  },
  {
   "cell_type": "code",
   "execution_count": 94,
   "metadata": {},
   "outputs": [
    {
     "data": {
      "text/html": [
       "<table border='1'>\n",
       "<tr><th>Unnamed:0</th><th>char</th><th>dialog</th><th>movie</th></tr>\n",
       "<tr><td>0</td><td>DEAGOL</td><td>Oh Smeagol Ive go...</td><td>The Return of the...</td></tr>\n",
       "<tr><td>1</td><td>SMEAGOL</td><td>Pull it in! Go on...</td><td>The Return of the...</td></tr>\n",
       "<tr><td>2</td><td>DEAGOL</td><td>Arrghh! </td><td>The Return of the...</td></tr>\n",
       "<tr><td>3</td><td>SMEAGOL</td><td>Deagol!  </td><td>The Return of the...</td></tr>\n",
       "<tr><td>4</td><td>SMEAGOL</td><td>Deagol!  </td><td>The Return of the...</td></tr>\n",
       "<tr><td>5</td><td>SMEAGOL</td><td>Deagol!  </td><td>The Return of the...</td></tr>\n",
       "<tr><td>6</td><td>SMEAGOL</td><td>Give us that! Dea...</td><td>The Return of the...</td></tr>\n",
       "<tr><td>7</td><td>DEAGOL</td><td>Why?  </td><td>The Return of the...</td></tr>\n",
       "<tr><td>8</td><td>SMEAGOL</td><td>Because&#x27; , it&#x27;s m...</td><td>The Return of the...</td></tr>\n",
       "<tr><td>9</td><td>SMEAGOL</td><td> My precious.  </td><td>The Return of the...</td></tr>\n",
       "</table>\n",
       "only showing top 10 rows\n"
      ],
      "text/plain": [
       "+---------+-------+--------------------+--------------------+\n",
       "|Unnamed:0|   char|              dialog|               movie|\n",
       "+---------+-------+--------------------+--------------------+\n",
       "|        0| DEAGOL|Oh Smeagol Ive go...|The Return of the...|\n",
       "|        1|SMEAGOL|Pull it in! Go on...|The Return of the...|\n",
       "|        2| DEAGOL|            Arrghh! |The Return of the...|\n",
       "|        3|SMEAGOL|           Deagol!  |The Return of the...|\n",
       "|        4|SMEAGOL|           Deagol!  |The Return of the...|\n",
       "|        5|SMEAGOL|           Deagol!  |The Return of the...|\n",
       "|        6|SMEAGOL|Give us that! Dea...|The Return of the...|\n",
       "|        7| DEAGOL|              Why?  |The Return of the...|\n",
       "|        8|SMEAGOL|Because' , it's m...|The Return of the...|\n",
       "|        9|SMEAGOL|      My precious.  |The Return of the...|\n",
       "+---------+-------+--------------------+--------------------+\n",
       "only showing top 10 rows"
      ]
     },
     "execution_count": 94,
     "metadata": {},
     "output_type": "execute_result"
    }
   ],
   "source": [
    "# Select das Colunas no df_csv\n",
    "df_csv.select(\"Unnamed:0\", \"char\",\"dialog\", \"movie\")"
   ]
  },
  {
   "cell_type": "code",
   "execution_count": 95,
   "metadata": {
    "colab": {
     "base_uri": "https://localhost:8080/",
     "height": 359
    },
    "id": "kMkyVG1Enfp6",
    "outputId": "0300870f-10b1-419a-9c47-0fbb58bd47e8"
   },
   "outputs": [
    {
     "data": {
      "text/html": [
       "<table border='1'>\n",
       "<tr><th>Unnamed:0</th><th>char</th><th>dialog</th><th>movie</th></tr>\n",
       "<tr><td>0</td><td>DEAGOL</td><td>Oh Smeagol Ive go...</td><td>The Return of the...</td></tr>\n",
       "<tr><td>1</td><td>SMEAGOL</td><td>Pull it in! Go on...</td><td>The Return of the...</td></tr>\n",
       "<tr><td>2</td><td>DEAGOL</td><td>Arrghh! </td><td>The Return of the...</td></tr>\n",
       "<tr><td>3</td><td>SMEAGOL</td><td>Deagol!  </td><td>The Return of the...</td></tr>\n",
       "<tr><td>4</td><td>SMEAGOL</td><td>Deagol!  </td><td>The Return of the...</td></tr>\n",
       "<tr><td>5</td><td>SMEAGOL</td><td>Deagol!  </td><td>The Return of the...</td></tr>\n",
       "<tr><td>6</td><td>SMEAGOL</td><td>Give us that! Dea...</td><td>The Return of the...</td></tr>\n",
       "<tr><td>7</td><td>DEAGOL</td><td>Why?  </td><td>The Return of the...</td></tr>\n",
       "<tr><td>8</td><td>SMEAGOL</td><td>Because&#x27; , it&#x27;s m...</td><td>The Return of the...</td></tr>\n",
       "<tr><td>9</td><td>SMEAGOL</td><td> My precious.  </td><td>The Return of the...</td></tr>\n",
       "</table>\n",
       "only showing top 10 rows\n"
      ],
      "text/plain": [
       "+---------+-------+--------------------+--------------------+\n",
       "|Unnamed:0|   char|              dialog|               movie|\n",
       "+---------+-------+--------------------+--------------------+\n",
       "|        0| DEAGOL|Oh Smeagol Ive go...|The Return of the...|\n",
       "|        1|SMEAGOL|Pull it in! Go on...|The Return of the...|\n",
       "|        2| DEAGOL|            Arrghh! |The Return of the...|\n",
       "|        3|SMEAGOL|           Deagol!  |The Return of the...|\n",
       "|        4|SMEAGOL|           Deagol!  |The Return of the...|\n",
       "|        5|SMEAGOL|           Deagol!  |The Return of the...|\n",
       "|        6|SMEAGOL|Give us that! Dea...|The Return of the...|\n",
       "|        7| DEAGOL|              Why?  |The Return of the...|\n",
       "|        8|SMEAGOL|Because' , it's m...|The Return of the...|\n",
       "|        9|SMEAGOL|      My precious.  |The Return of the...|\n",
       "+---------+-------+--------------------+--------------------+\n",
       "only showing top 10 rows"
      ]
     },
     "execution_count": 95,
     "metadata": {},
     "output_type": "execute_result"
    }
   ],
   "source": [
    "cols = [\"Unnamed:0\", \"char\",\"dialog\", \"movie\"]\n",
    "df_parquet.select(cols)"
   ]
  },
  {
   "cell_type": "code",
   "execution_count": 56,
   "metadata": {},
   "outputs": [
    {
     "data": {
      "text/html": [
       "<table border='1'>\n",
       "<tr><th>Unnamed:0</th><th>char</th><th>dialog</th><th>movie</th></tr>\n",
       "<tr><td>0</td><td>DEAGOL</td><td>Oh Smeagol Ive go...</td><td>The Return of the...</td></tr>\n",
       "<tr><td>1</td><td>SMEAGOL</td><td>Pull it in! Go on...</td><td>The Return of the...</td></tr>\n",
       "<tr><td>2</td><td>DEAGOL</td><td>Arrghh! </td><td>The Return of the...</td></tr>\n",
       "<tr><td>3</td><td>SMEAGOL</td><td>Deagol!  </td><td>The Return of the...</td></tr>\n",
       "<tr><td>4</td><td>SMEAGOL</td><td>Deagol!  </td><td>The Return of the...</td></tr>\n",
       "<tr><td>5</td><td>SMEAGOL</td><td>Deagol!  </td><td>The Return of the...</td></tr>\n",
       "<tr><td>6</td><td>SMEAGOL</td><td>Give us that! Dea...</td><td>The Return of the...</td></tr>\n",
       "<tr><td>7</td><td>DEAGOL</td><td>Why?  </td><td>The Return of the...</td></tr>\n",
       "<tr><td>8</td><td>SMEAGOL</td><td>Because&#x27; , it&#x27;s m...</td><td>The Return of the...</td></tr>\n",
       "<tr><td>9</td><td>SMEAGOL</td><td> My precious.  </td><td>The Return of the...</td></tr>\n",
       "</table>\n",
       "only showing top 10 rows\n"
      ],
      "text/plain": [
       "+---------+-------+--------------------+--------------------+\n",
       "|Unnamed:0|   char|              dialog|               movie|\n",
       "+---------+-------+--------------------+--------------------+\n",
       "|        0| DEAGOL|Oh Smeagol Ive go...|The Return of the...|\n",
       "|        1|SMEAGOL|Pull it in! Go on...|The Return of the...|\n",
       "|        2| DEAGOL|            Arrghh! |The Return of the...|\n",
       "|        3|SMEAGOL|           Deagol!  |The Return of the...|\n",
       "|        4|SMEAGOL|           Deagol!  |The Return of the...|\n",
       "|        5|SMEAGOL|           Deagol!  |The Return of the...|\n",
       "|        6|SMEAGOL|Give us that! Dea...|The Return of the...|\n",
       "|        7| DEAGOL|              Why?  |The Return of the...|\n",
       "|        8|SMEAGOL|Because' , it's m...|The Return of the...|\n",
       "|        9|SMEAGOL|      My precious.  |The Return of the...|\n",
       "+---------+-------+--------------------+--------------------+\n",
       "only showing top 10 rows"
      ]
     },
     "execution_count": 56,
     "metadata": {},
     "output_type": "execute_result"
    }
   ],
   "source": [
    "cols = [\"Unnamed:0\", \"char\",\"dialog\", \"movie\"]\n",
    "df_csv.select(cols)"
   ]
  },
  {
   "cell_type": "code",
   "execution_count": 96,
   "metadata": {
    "colab": {
     "base_uri": "https://localhost:8080/",
     "height": 359
    },
    "id": "z9BbhKdPnlrt",
    "outputId": "35fdea44-7882-48d6-e66a-e8ffd340f699"
   },
   "outputs": [
    {
     "data": {
      "text/html": [
       "<table border='1'>\n",
       "<tr><th>Unnamed:0</th><th>char</th><th>movie</th></tr>\n",
       "<tr><td>0</td><td>DEAGOL</td><td>The Return of the...</td></tr>\n",
       "<tr><td>1</td><td>SMEAGOL</td><td>The Return of the...</td></tr>\n",
       "<tr><td>2</td><td>DEAGOL</td><td>The Return of the...</td></tr>\n",
       "<tr><td>3</td><td>SMEAGOL</td><td>The Return of the...</td></tr>\n",
       "<tr><td>4</td><td>SMEAGOL</td><td>The Return of the...</td></tr>\n",
       "<tr><td>5</td><td>SMEAGOL</td><td>The Return of the...</td></tr>\n",
       "<tr><td>6</td><td>SMEAGOL</td><td>The Return of the...</td></tr>\n",
       "<tr><td>7</td><td>DEAGOL</td><td>The Return of the...</td></tr>\n",
       "<tr><td>8</td><td>SMEAGOL</td><td>The Return of the...</td></tr>\n",
       "<tr><td>9</td><td>SMEAGOL</td><td>The Return of the...</td></tr>\n",
       "</table>\n",
       "only showing top 10 rows\n"
      ],
      "text/plain": [
       "+---------+-------+--------------------+\n",
       "|Unnamed:0|   char|               movie|\n",
       "+---------+-------+--------------------+\n",
       "|        0| DEAGOL|The Return of the...|\n",
       "|        1|SMEAGOL|The Return of the...|\n",
       "|        2| DEAGOL|The Return of the...|\n",
       "|        3|SMEAGOL|The Return of the...|\n",
       "|        4|SMEAGOL|The Return of the...|\n",
       "|        5|SMEAGOL|The Return of the...|\n",
       "|        6|SMEAGOL|The Return of the...|\n",
       "|        7| DEAGOL|The Return of the...|\n",
       "|        8|SMEAGOL|The Return of the...|\n",
       "|        9|SMEAGOL|The Return of the...|\n",
       "+---------+-------+--------------------+\n",
       "only showing top 10 rows"
      ]
     },
     "execution_count": 96,
     "metadata": {},
     "output_type": "execute_result"
    }
   ],
   "source": [
    "cols = [\"char\", \"movie\"]\n",
    "df_csv.select(\"Unnamed:0\", *cols)"
   ]
  },
  {
   "cell_type": "markdown",
   "metadata": {
    "id": "JErw3YdRn-bu"
   },
   "source": [
    "Observações:\n",
    "* Podemos realizar operações sobre colunas selecionadas. \n",
    "* A ordem em que as colunas são selecionadas é a ordem em que elas vão ser inseridas no DataFrame resultante."
   ]
  },
  {
   "cell_type": "code",
   "execution_count": 62,
   "metadata": {
    "colab": {
     "base_uri": "https://localhost:8080/",
     "height": 359
    },
    "id": "GJNl4tcGn1bi",
    "outputId": "119b6154-9add-4a32-d04d-d815000a4b97"
   },
   "outputs": [
    {
     "data": {
      "text/html": [
       "<table border='1'>\n",
       "<tr><th>movie</th><th>char</th><th>char_lower</th></tr>\n",
       "<tr><td>The Return of the...</td><td>DEAGOL</td><td>deagol</td></tr>\n",
       "<tr><td>The Return of the...</td><td>SMEAGOL</td><td>smeagol</td></tr>\n",
       "<tr><td>The Return of the...</td><td>DEAGOL</td><td>deagol</td></tr>\n",
       "<tr><td>The Return of the...</td><td>SMEAGOL</td><td>smeagol</td></tr>\n",
       "<tr><td>The Return of the...</td><td>SMEAGOL</td><td>smeagol</td></tr>\n",
       "<tr><td>The Return of the...</td><td>SMEAGOL</td><td>smeagol</td></tr>\n",
       "<tr><td>The Return of the...</td><td>SMEAGOL</td><td>smeagol</td></tr>\n",
       "<tr><td>The Return of the...</td><td>DEAGOL</td><td>deagol</td></tr>\n",
       "<tr><td>The Return of the...</td><td>SMEAGOL</td><td>smeagol</td></tr>\n",
       "<tr><td>The Return of the...</td><td>SMEAGOL</td><td>smeagol</td></tr>\n",
       "</table>\n",
       "only showing top 10 rows\n"
      ],
      "text/plain": [
       "+--------------------+-------+----------+\n",
       "|               movie|   char|char_lower|\n",
       "+--------------------+-------+----------+\n",
       "|The Return of the...| DEAGOL|    deagol|\n",
       "|The Return of the...|SMEAGOL|   smeagol|\n",
       "|The Return of the...| DEAGOL|    deagol|\n",
       "|The Return of the...|SMEAGOL|   smeagol|\n",
       "|The Return of the...|SMEAGOL|   smeagol|\n",
       "|The Return of the...|SMEAGOL|   smeagol|\n",
       "|The Return of the...|SMEAGOL|   smeagol|\n",
       "|The Return of the...| DEAGOL|    deagol|\n",
       "|The Return of the...|SMEAGOL|   smeagol|\n",
       "|The Return of the...|SMEAGOL|   smeagol|\n",
       "+--------------------+-------+----------+\n",
       "only showing top 10 rows"
      ]
     },
     "execution_count": 62,
     "metadata": {},
     "output_type": "execute_result"
    }
   ],
   "source": [
    "df_csv.select(\"movie\", \"char\", f.lower('char').alias('char_lower'))"
   ]
  },
  {
   "cell_type": "markdown",
   "metadata": {
    "id": "TbZL83ifHh10"
   },
   "source": [
    "#### Selecionando valores distintos"
   ]
  },
  {
   "cell_type": "code",
   "execution_count": 98,
   "metadata": {
    "colab": {
     "base_uri": "https://localhost:8080/",
     "height": 948
    },
    "id": "cMug6VcsHoc9",
    "outputId": "f4525a73-8873-4f19-d807-997390566d36"
   },
   "outputs": [
    {
     "name": "stdout",
     "output_type": "stream",
     "text": [
      "+------------------------+\n",
      "|char                    |\n",
      "+------------------------+\n",
      "|SOLDIERS ON GATE        |\n",
      "|PEOPLE                  |\n",
      "|CROWD                   |\n",
      "|FRODO VOICE             |\n",
      "|LEGOLAS                 |\n",
      "|URUK HAI                |\n",
      "|ELROND                  |\n",
      "|HAMA                    |\n",
      "|SARUMAN                 |\n",
      "|SARUMAN VOICE OVER      |\n",
      "|THEODEN                 |\n",
      "| GANDALF                |\n",
      "|SHARKU                  |\n",
      "|EYE OF SAURON           |\n",
      "|BOSON                   |\n",
      "|MEN                     |\n",
      "|HOBBIT                  |\n",
      "|WILDMAN                 |\n",
      "|GATEKEEPR               |\n",
      "|GIMLI                   |\n",
      "|GRIMBOLD                |\n",
      "|BOROMIR                 |\n",
      "|RING                    |\n",
      "|ROHAN HORSEMAN          |\n",
      "|SMEAGOL                 |\n",
      "|OLD MAN                 |\n",
      "|GALADRIEL VOICE OVER    |\n",
      "|GENERAL SHOUT           |\n",
      "|ROHIRRIM                |\n",
      "|MRS BRACEGIRDLE         |\n",
      "|ORC                     |\n",
      "|EOMER                   |\n",
      "|MAN                     |\n",
      "|GALADRIL                |\n",
      "|LADY                    |\n",
      "|PIPPIN                  |\n",
      "|SARUMAN VOICE OVER      |\n",
      "|GATEKEEPER              |\n",
      "|SNAGA                   |\n",
      "|(GOLLUM                 |\n",
      "|FARMER MAGGOT           |\n",
      "|MADRIL                  |\n",
      "|SAURON VOICE            |\n",
      "|SOLDIER                 |\n",
      "|DEAGOL                  |\n",
      "|ARAGORN                 |\n",
      "|GENERAL                 |\n",
      "|FRODO                   |\n",
      "|BILBO                   |\n",
      "|ELROND VOICEOVER        |\n",
      "|FRODO                   |\n",
      "|CHILDREN HOBBITS        |\n",
      "|GOLLUM                  |\n",
      "|CAPTAIN                 |\n",
      "|SAM VOICEOVER           |\n",
      "|MORWEN                  |\n",
      "|KING OF THE DEAD        |\n",
      "|ORCS                    |\n",
      "|WOMAN                   |\n",
      "|ARAGORN                 |\n",
      "|GORBAG                  |\n",
      "|SARUMAN VOICEOVER       |\n",
      "|ARGORN                  |\n",
      "|DAMROD                  |\n",
      "|SOLDIER 1               |\n",
      "|GALADRIEL VOICE-OVER    |\n",
      "|SOLDIERS                |\n",
      "|FREDA                   |\n",
      "|ROSIE                   |\n",
      "|ARMY                    |\n",
      "|SOLDIERS IN MINAS TIRITH|\n",
      "|HALDIR                  |\n",
      "|GANDALF VOICE OVER      |\n",
      "|SAM                     |\n",
      "|PROUDFOOT HOBBIT        |\n",
      "|FARAMIR                 |\n",
      "|ROHAN STABLEMAN         |\n",
      "|GRISHNAKH               |\n",
      "|DENETHOR                |\n",
      "|MERRY AND PIPPIN        |\n",
      "|ARWEN VOICEOVER         |\n",
      "|VOICE                   |\n",
      "|EOTHAIN                 |\n",
      "|GOTHMOG                 |\n",
      "|EOWYN/MERRY             |\n",
      "|BARLIMAN                |\n",
      "|GALADRIEL               |\n",
      "|WHITE WIZARD            |\n",
      "|GANDALF                 |\n",
      "|FIGWIT                  |\n",
      "|SHAGRAT                 |\n",
      "|MERCENARY               |\n",
      "|NOAKES                  |\n",
      "|EOWYN                   |\n",
      "|MOUTH OF SAURON         |\n",
      "|ARWEN                   |\n",
      "|BILBO VOICEOVER         |\n",
      "|SAURON                  |\n",
      "|TREEBEARD               |\n",
      "|GAFFER                  |\n",
      "|MERRY and PIPPIN        |\n",
      "|MERRY                   |\n",
      "|WITCH KING              |\n",
      "|GAMLING                 |\n",
      "|SANDYMAN                |\n",
      "|URUK-HAI                |\n",
      "|FRODO VOICE OVER        |\n",
      "|GALADRIEL VOICEOVER     |\n",
      "|SOLDIER 2               |\n",
      "|GANDALF VOICEOVER       |\n",
      "|GAN DALF                |\n",
      "|SAM                     |\n",
      "|GRIMA                   |\n",
      "|UGLUK                   |\n",
      "|STRIDER                 |\n",
      "|IROLAS                  |\n",
      "|BOROMIR                 |\n",
      "|GRISHNAK                |\n",
      "|null                    |\n",
      "+------------------------+\n",
      "\n"
     ]
    }
   ],
   "source": [
    "df_parquet.select(\"char\").distinct().show(n=df_parquet.count(), truncate=False)"
   ]
  },
  {
   "cell_type": "code",
   "execution_count": 67,
   "metadata": {},
   "outputs": [
    {
     "name": "stdout",
     "output_type": "stream",
     "text": [
      "+-----------------------+\n",
      "|movie                  |\n",
      "+-----------------------+\n",
      "|The Return of the King |\n",
      "|The Return of the King |\n",
      "+-----------------------+\n",
      "\n"
     ]
    }
   ],
   "source": [
    "df_csv.select(\"movie\").distinct().show(n=df_csv.count(), truncate=False)"
   ]
  },
  {
   "cell_type": "markdown",
   "metadata": {
    "id": "r7No5VU2qaXS"
   },
   "source": [
    "#### Filtros Utilizando SQL"
   ]
  },
  {
   "cell_type": "code",
   "execution_count": 99,
   "metadata": {
    "colab": {
     "base_uri": "https://localhost:8080/"
    },
    "id": "TdDAkcx_qcud",
    "outputId": "dabeaa0c-fbe0-4738-d80e-09fed41e7028"
   },
   "outputs": [
    {
     "data": {
      "text/html": [
       "<table border='1'>\n",
       "<tr><th>char</th><th>movie</th></tr>\n",
       "<tr><td>SMEAGOL</td><td>The Return of the...</td></tr>\n",
       "<tr><td>SMEAGOL</td><td>The Return of the...</td></tr>\n",
       "<tr><td>SMEAGOL</td><td>The Return of the...</td></tr>\n",
       "<tr><td>SMEAGOL</td><td>The Return of the...</td></tr>\n",
       "<tr><td>SMEAGOL</td><td>The Return of the...</td></tr>\n",
       "<tr><td>SMEAGOL</td><td>The Return of the...</td></tr>\n",
       "<tr><td>SMEAGOL</td><td>The Return of the...</td></tr>\n",
       "<tr><td>SMEAGOL</td><td>The Return of the...</td></tr>\n",
       "<tr><td>SMEAGOL</td><td>The Return of the...</td></tr>\n",
       "<tr><td>SMEAGOL</td><td>The Return of the...</td></tr>\n",
       "</table>\n",
       "only showing top 10 rows\n"
      ],
      "text/plain": [
       "+-------+--------------------+\n",
       "|   char|               movie|\n",
       "+-------+--------------------+\n",
       "|SMEAGOL|The Return of the...|\n",
       "|SMEAGOL|The Return of the...|\n",
       "|SMEAGOL|The Return of the...|\n",
       "|SMEAGOL|The Return of the...|\n",
       "|SMEAGOL|The Return of the...|\n",
       "|SMEAGOL|The Return of the...|\n",
       "|SMEAGOL|The Return of the...|\n",
       "|SMEAGOL|The Return of the...|\n",
       "|SMEAGOL|The Return of the...|\n",
       "|SMEAGOL|The Return of the...|\n",
       "+-------+--------------------+\n",
       "only showing top 10 rows"
      ]
     },
     "execution_count": 99,
     "metadata": {},
     "output_type": "execute_result"
    }
   ],
   "source": [
    "(\n",
    "    df_parquet.filter(\"char = 'SMEAGOL'\")\n",
    "    .select(\"char\", \"movie\")\n",
    ")"
   ]
  },
  {
   "cell_type": "markdown",
   "metadata": {
    "id": "hIU3LBh9r6Y5"
   },
   "source": [
    "#### Observações\n",
    "Quando nos referimos às colunas por meio da função `col()`, temos acesso à diversos métodos das colunas que podem ser utilizados para auxliar na filtragem do DataFrame. Alguns deles são:\n",
    "* `isin()`: checa se a coluna contém os valores listados na função.\n",
    "* `contains()`: utilizado para verificar se uma coluna de texto contém algum padrão especificado (não aceita regex). Aceita uma outra coluna de texto.\n",
    "* `like()`: utilizado para verificar se uma coluna de texto contém algum padrão especificado (não aceita regex). Funciona de forma similar ao \"LIKE\" do SQL.\n",
    "* `rlike()`: utilizado para verificar se uma coluna de texto contém algum padrão especificado (**aceita regex**). Funciona de forma similar ao \"RLIKE\" do SQL.\n",
    "* `startswith()`: utilizado para verificar se uma coluna de texto começa com algum padrão especificado (**aceita regex**).\n",
    "* `endswith()`: utilizado para verificar se uma coluna de texto termina com algum padrão especificado (**aceita regex**).\n",
    "* `between()`: checa se os valores da coluna estão dentro do intervalo especificado. Os dois lados do intervalo são inclusivos.\n",
    "* `isNull()`: retorna True se o valor da coluna é nulo\n",
    "* `isNotNull()`: retorna True se o valor da coluna não é nulo\n",
    "\n",
    "Outros métodos úteis:\n",
    "* `alias()/name()`: usado para renomear as colunas em operações como select() e agg()\n",
    "* `astype()/cast()`: usado para mudar o tipo das colunas. Aceita tanto um string como um tipo especificado pelo módulo pyspark.sql.types\n",
    "* `substr()`: utilizado para cortar um string com base em índices dos caracteres "
   ]
  },
  {
   "cell_type": "code",
   "execution_count": 107,
   "metadata": {},
   "outputs": [
    {
     "name": "stdout",
     "output_type": "stream",
     "text": [
      "+-------+\n",
      "|char   |\n",
      "+-------+\n",
      "|FRODO  |\n",
      "|FRODO  |\n",
      "|FRODO  |\n",
      "|FRODO  |\n",
      "|FRODO  |\n",
      "|FRODO  |\n",
      "|FRODO  |\n",
      "|GANDALF|\n",
      "|FRODO  |\n",
      "|FRODO  |\n",
      "|FRODO  |\n",
      "|FRODO  |\n",
      "|FRODO  |\n",
      "|FRODO  |\n",
      "|FRODO  |\n",
      "|FRODO  |\n",
      "|GANDALF|\n",
      "|GANDALF|\n",
      "|GANDALF|\n",
      "|GANDALF|\n",
      "+-------+\n",
      "only showing top 20 rows\n",
      "\n"
     ]
    }
   ],
   "source": [
    "(\n",
    "    df_parquet.filter(f.col(\"char\").like('%F%'))\n",
    "    .select(\"char\").show(truncate=False)\n",
    ")"
   ]
  },
  {
   "cell_type": "markdown",
   "metadata": {
    "id": "GGh6ifiDIM-P"
   },
   "source": [
    "### Ordenando o DataFrame"
   ]
  },
  {
   "cell_type": "markdown",
   "metadata": {
    "id": "C6up9X4QJN1s"
   },
   "source": [
    "A ordenação do DataFrame pode ser feita utilizando as funções `orderBy()` ou `sort()`. Algumas funções auxiliares importante para serem usadas ao ordenar:\n",
    "* `asc()`: ordena a coluna de forma ascendente (default)\n",
    "* `desc()`ordena a coluna de forma decrescente\n",
    "* `asc_nulls_first() / desc_nulls_first()`: ordena a coluna de forma ascendente e decrescente, respectivamente, mantendo os campos nulos primeiro\n",
    "* `asc_nulls_last() / desc_nulls_last()`: ordena a coluna de forma ascendente e decrescente, respectivamente, mantendo os campos nulos por último"
   ]
  },
  {
   "cell_type": "code",
   "execution_count": 108,
   "metadata": {
    "colab": {
     "base_uri": "https://localhost:8080/",
     "height": 948
    },
    "id": "GF4v4b-rISVe",
    "outputId": "85896410-9915-4c1e-ba8b-159e7b431198"
   },
   "outputs": [
    {
     "name": "stdout",
     "output_type": "stream",
     "text": [
      "+----------------+\n",
      "|char            |\n",
      "+----------------+\n",
      "|null            |\n",
      "|(GOLLUM         |\n",
      "|ARAGORN         |\n",
      "|ARAGORN         |\n",
      "|ARGORN          |\n",
      "|ARMY            |\n",
      "|ARWEN           |\n",
      "|ARWEN VOICEOVER |\n",
      "|BARLIMAN        |\n",
      "|BILBO           |\n",
      "|BILBO VOICEOVER |\n",
      "|BOROMIR         |\n",
      "|BOROMIR         |\n",
      "|BOSON           |\n",
      "|CAPTAIN         |\n",
      "|CHILDREN HOBBITS|\n",
      "|CROWD           |\n",
      "|DAMROD          |\n",
      "|DEAGOL          |\n",
      "|DENETHOR        |\n",
      "+----------------+\n",
      "only showing top 20 rows\n",
      "\n"
     ]
    }
   ],
   "source": [
    "df_parquet.select(\"char\").distinct().orderBy('char').show(truncate=False)"
   ]
  },
  {
   "cell_type": "markdown",
   "metadata": {
    "id": "JejMRib9v7Ji"
   },
   "source": [
    "### Renomeando Colunas"
   ]
  },
  {
   "cell_type": "markdown",
   "metadata": {
    "id": "A-r10heJh5BD"
   },
   "source": [
    "Para renomear colunas, é utilizada a função `withColumnRenamed()`, da seguinte forma:\n",
    "\n",
    "```\n",
    "df.withColumnRenamed(`nome_antigo`, 'nome_novo')\n",
    "```"
   ]
  },
  {
   "cell_type": "code",
   "execution_count": 110,
   "metadata": {
    "colab": {
     "base_uri": "https://localhost:8080/"
    },
    "id": "_xyy0dtprVDN",
    "outputId": "57d38fd3-b447-4c0d-c289-0d6ab0c93f6d"
   },
   "outputs": [
    {
     "data": {
      "text/html": [
       "<table border='1'>\n",
       "<tr><th>codigo</th><th>personagem</th><th>dialogo</th><th>filme</th></tr>\n",
       "<tr><td>0</td><td>DEAGOL</td><td>Oh Smeagol Ive go...</td><td>The Return of the...</td></tr>\n",
       "<tr><td>1</td><td>SMEAGOL</td><td>Pull it in! Go on...</td><td>The Return of the...</td></tr>\n",
       "<tr><td>2</td><td>DEAGOL</td><td>Arrghh! </td><td>The Return of the...</td></tr>\n",
       "<tr><td>3</td><td>SMEAGOL</td><td>Deagol!  </td><td>The Return of the...</td></tr>\n",
       "<tr><td>4</td><td>SMEAGOL</td><td>Deagol!  </td><td>The Return of the...</td></tr>\n",
       "<tr><td>5</td><td>SMEAGOL</td><td>Deagol!  </td><td>The Return of the...</td></tr>\n",
       "<tr><td>6</td><td>SMEAGOL</td><td>Give us that! Dea...</td><td>The Return of the...</td></tr>\n",
       "<tr><td>7</td><td>DEAGOL</td><td>Why?  </td><td>The Return of the...</td></tr>\n",
       "<tr><td>8</td><td>SMEAGOL</td><td>Because&#x27; , it&#x27;s m...</td><td>The Return of the...</td></tr>\n",
       "<tr><td>9</td><td>SMEAGOL</td><td> My precious.  </td><td>The Return of the...</td></tr>\n",
       "</table>\n",
       "only showing top 10 rows\n"
      ],
      "text/plain": [
       "+------+----------+--------------------+--------------------+\n",
       "|codigo|personagem|             dialogo|               filme|\n",
       "+------+----------+--------------------+--------------------+\n",
       "|     0|    DEAGOL|Oh Smeagol Ive go...|The Return of the...|\n",
       "|     1|   SMEAGOL|Pull it in! Go on...|The Return of the...|\n",
       "|     2|    DEAGOL|            Arrghh! |The Return of the...|\n",
       "|     3|   SMEAGOL|           Deagol!  |The Return of the...|\n",
       "|     4|   SMEAGOL|           Deagol!  |The Return of the...|\n",
       "|     5|   SMEAGOL|           Deagol!  |The Return of the...|\n",
       "|     6|   SMEAGOL|Give us that! Dea...|The Return of the...|\n",
       "|     7|    DEAGOL|              Why?  |The Return of the...|\n",
       "|     8|   SMEAGOL|Because' , it's m...|The Return of the...|\n",
       "|     9|   SMEAGOL|      My precious.  |The Return of the...|\n",
       "+------+----------+--------------------+--------------------+\n",
       "only showing top 10 rows"
      ]
     },
     "execution_count": 110,
     "metadata": {},
     "output_type": "execute_result"
    }
   ],
   "source": [
    "(\n",
    "    df_parquet.select(\"Unnamed:0\",\"char\",\"dialog\", \"movie\")\n",
    "    .withColumnRenamed(\"Unnamed:0\", \"codigo\")\n",
    "    .withColumnRenamed(\"char\", \"personagem\")\n",
    "    .withColumnRenamed(\"dialog\", \"dialogo\")\n",
    "    .withColumnRenamed(\"movie\", \"filme\")\n",
    ")"
   ]
  },
  {
   "cell_type": "markdown",
   "metadata": {},
   "source": [
    "### Usando SQL no Spark"
   ]
  },
  {
   "cell_type": "code",
   "execution_count": 111,
   "metadata": {},
   "outputs": [
    {
     "data": {
      "text/plain": [
       "'default'"
      ]
     },
     "execution_count": 111,
     "metadata": {},
     "output_type": "execute_result"
    }
   ],
   "source": [
    "spark.catalog.currentDatabase()"
   ]
  },
  {
   "cell_type": "code",
   "execution_count": 112,
   "metadata": {},
   "outputs": [
    {
     "name": "stdout",
     "output_type": "stream",
     "text": [
      "+---------+\n",
      "|namespace|\n",
      "+---------+\n",
      "|  default|\n",
      "+---------+\n",
      "\n"
     ]
    }
   ],
   "source": [
    "spark.sql('show databases').show()"
   ]
  },
  {
   "cell_type": "code",
   "execution_count": 113,
   "metadata": {},
   "outputs": [
    {
     "data": {
      "text/html": [
       "<table border='1'>\n",
       "<tr><th></th></tr>\n",
       "</table>\n"
      ],
      "text/plain": [
       "++\n",
       "||\n",
       "++\n",
       "++"
      ]
     },
     "execution_count": 113,
     "metadata": {},
     "output_type": "execute_result"
    }
   ],
   "source": [
    "spark.sql('create database mbaProjectLotr')"
   ]
  },
  {
   "cell_type": "code",
   "execution_count": 114,
   "metadata": {},
   "outputs": [
    {
     "name": "stdout",
     "output_type": "stream",
     "text": [
      "+--------------+\n",
      "|     namespace|\n",
      "+--------------+\n",
      "|       default|\n",
      "|mbaprojectlotr|\n",
      "+--------------+\n",
      "\n"
     ]
    }
   ],
   "source": [
    "spark.sql('show databases').show()"
   ]
  },
  {
   "cell_type": "code",
   "execution_count": 115,
   "metadata": {},
   "outputs": [
    {
     "data": {
      "text/html": [
       "<table border='1'>\n",
       "<tr><th></th></tr>\n",
       "</table>\n"
      ],
      "text/plain": [
       "++\n",
       "||\n",
       "++\n",
       "++"
      ]
     },
     "execution_count": 115,
     "metadata": {},
     "output_type": "execute_result"
    }
   ],
   "source": [
    "spark.sql(\"use mbaProjectLotr\")"
   ]
  },
  {
   "cell_type": "code",
   "execution_count": 116,
   "metadata": {},
   "outputs": [
    {
     "data": {
      "text/plain": [
       "'mbaprojectlotr'"
      ]
     },
     "execution_count": 116,
     "metadata": {},
     "output_type": "execute_result"
    }
   ],
   "source": [
    "spark.catalog.currentDatabase()"
   ]
  },
  {
   "cell_type": "code",
   "execution_count": 117,
   "metadata": {},
   "outputs": [],
   "source": [
    "df_parquet.createOrReplaceTempView(\"tb_lotr\")"
   ]
  },
  {
   "cell_type": "code",
   "execution_count": 118,
   "metadata": {},
   "outputs": [
    {
     "data": {
      "text/plain": [
       "[Table(name='tb_lotr', database=None, description=None, tableType='TEMPORARY', isTemporary=True)]"
      ]
     },
     "execution_count": 118,
     "metadata": {},
     "output_type": "execute_result"
    }
   ],
   "source": [
    "spark.catalog.listTables('mbaProjectLotr')"
   ]
  },
  {
   "cell_type": "code",
   "execution_count": 137,
   "metadata": {},
   "outputs": [
    {
     "name": "stdout",
     "output_type": "stream",
     "text": [
      "+---------+----------+--------------------+\n",
      "|Unnamed:0|      char|              dialog|\n",
      "+---------+----------+--------------------+\n",
      "|Unnamed:0|   GANDALF|      Retreat! Th...|\n",
      "|Unnamed:0|   GANDALF|      Retreat! Th...|\n",
      "|Unnamed:0|   GANDALF|      Retreat! Th...|\n",
      "|Unnamed:0|   GANDALF|      Retreat! Th...|\n",
      "|Unnamed:0|   GANDALF|      Retreat! Th...|\n",
      "|Unnamed:0|     WOMAN|They are breaking...|\n",
      "|Unnamed:0|     WOMAN|They're past the ...|\n",
      "|Unnamed:0|     WOMAN|They are breaking...|\n",
      "|Unnamed:0|     WOMAN|        He's alive! |\n",
      "|Unnamed:0|     WOMAN|        He's alive! |\n",
      "|Unnamed:0|     WOMAN|They're past the ...|\n",
      "|Unnamed:0|     WOMAN|They're past the ...|\n",
      "|Unnamed:0|     WOMAN|        He's alive! |\n",
      "|Unnamed:0|     WOMAN|They are breaking...|\n",
      "|Unnamed:0|WITCH KING|  Do not come bet...|\n",
      "|Unnamed:0|WITCH KING| I will break him.  |\n",
      "|Unnamed:0|WITCH KING| I will break him.  |\n",
      "|Unnamed:0|WITCH KING|    Do you not kn...|\n",
      "|Unnamed:0|WITCH KING|    Do you not kn...|\n",
      "|Unnamed:0|WITCH KING|Send forth all le...|\n",
      "+---------+----------+--------------------+\n",
      "only showing top 20 rows\n",
      "\n"
     ]
    }
   ],
   "source": [
    "spark.sql(\"\"\"\n",
    "          SELECT 'Unnamed:0', char, dialog\n",
    "          FROM tb_lotr\n",
    "          ORDER BY char DESC\n",
    "          \"\"\").show()"
   ]
  },
  {
   "cell_type": "code",
   "execution_count": 140,
   "metadata": {},
   "outputs": [
    {
     "name": "stdout",
     "output_type": "stream",
     "text": [
      "+--------------+--------------------+\n",
      "|qtd_personagem|               filme|\n",
      "+--------------+--------------------+\n",
      "|             0|                null|\n",
      "|             3|      \"\"Yes! That...|\n",
      "|             3|       Lord of Moria|\n",
      "|             3|            3'8\"\"! \"|\n",
      "|          1518|The Fellowship of...|\n",
      "|             2|The Return of the...|\n",
      "|          3016|The Return of the...|\n",
      "|          3024|     The Two Towers |\n",
      "+--------------+--------------------+\n",
      "\n"
     ]
    }
   ],
   "source": [
    "spark.sql(\"\"\"\n",
    "          SELECT count(char) as qtd_personagem, movie as filme\n",
    "          FROM tb_lotr\n",
    "          GROUP BY movie\n",
    "          ORDER BY movie ASC\n",
    "          \"\"\").show()"
   ]
  },
  {
   "cell_type": "markdown",
   "metadata": {
    "id": "KPQOFMX1TLrU"
   },
   "source": [
    "### User Defined Functions (UDFs)"
   ]
  },
  {
   "cell_type": "markdown",
   "metadata": {
    "id": "x9ZJh9UfAKqv"
   },
   "source": [
    "Em algumas situações é necessário criar/alterar uma coluna utilizando uma operação não implementada na biblioteca padrão. Para isso, é possível utilzar funções definidas pelo usuário (UDFs) por meio da função `udf()`.\n",
    "\n",
    "**Importante**: As udfs não são otimizadas para serem executadas em paralelo, e por isso podem representar um gargalo na na aplicação."
   ]
  },
  {
   "cell_type": "code",
   "execution_count": 43,
   "metadata": {
    "id": "pmMoX5nCADSX",
    "tags": []
   },
   "outputs": [],
   "source": [
    "def convert_santander_name(string):\n",
    "    if string == \"SANTANDER UK PLC\":\n",
    "        return \"SANTANDER MBA UNIESP\"\n",
    "    else:\n",
    "        return string\n",
    "\n",
    "convert_santander_name = f.udf(convert_santander_name, returnType=t.StringType())"
   ]
  },
  {
   "cell_type": "code",
   "execution_count": 44,
   "metadata": {},
   "outputs": [
    {
     "data": {
      "text/plain": [
       "<function __main__.convert_santander_name(string)>"
      ]
     },
     "execution_count": 44,
     "metadata": {},
     "output_type": "execute_result"
    }
   ],
   "source": [
    "convert_santander_name"
   ]
  },
  {
   "cell_type": "code",
   "execution_count": 45,
   "metadata": {
    "colab": {
     "base_uri": "https://localhost:8080/",
     "height": 204
    },
    "id": "D5-VNaSoDG5l",
    "outputId": "33fc2d84-6a17-4a46-9b79-bf170f69acbf"
   },
   "outputs": [
    {
     "name": "stdout",
     "output_type": "stream",
     "text": [
      "+--------------------+\n",
      "|bank_name           |\n",
      "+--------------------+\n",
      "|SANTANDER MBA UNIESP|\n",
      "+--------------------+\n",
      "\n"
     ]
    }
   ],
   "source": [
    "(\n",
    "    df_parquet.select(\"bank_name\")\n",
    "    .withColumn('bank_name', convert_santander_name(f.col('bank_name')))\\\n",
    "    .where(\"bank_name = 'SANTANDER MBA UNIESP'\")\\\n",
    "    .limit(1).show(truncate=False)\n",
    ")"
   ]
  },
  {
   "cell_type": "markdown",
   "metadata": {
    "id": "cxUX_PheS6by"
   },
   "source": [
    "### Joins"
   ]
  },
  {
   "cell_type": "markdown",
   "metadata": {
    "id": "RVfchwYIh5BR"
   },
   "source": [
    "Os joins no pyspark são especificados pela função `join()`, da seguinte forma:\n",
    "\n",
    "```\n",
    "df1.join(df2, {key_columns}, {join_type})\n",
    "```\n",
    "\n",
    "* `key_columns`: colunas que vão ser utilizadas para fazer a junção das tabelas. Pode ser especificada como\n",
    "    * Um único string -> só uma coluna é chave, mesmos nomes nas duas tabelas\n",
    "    * Uma lista de string ou de colunas (`col()`) -> mais de uma coluna é chave, mesmos nomes nas duas tabelas\n",
    "    * Com nomes diferentes, é necessário fazer uma especificação do tipo: `f.col(column1) == f.col(column2)`, em que a coluna da esquerda está no DataFrame da esquerda e analogamente a coluna da direita está no DataFrame da direita. Caso existam mais de uma coluna como chave, essas especificações devem ser colocadas em uma lista.\n",
    "* `join_type`: o tipo de join a ser realizado. As opções são:\n",
    "    * `inner (default)`: INNER JOIN do SQL\n",
    "    * `outer / full / fullouter / full_outer`: : FULL OUTER JOIN do SQL\n",
    "    * `left / leftouter / left_outer`: : LEFT JOIN do SQL\n",
    "    * `right / rightouter / right_outer`: : RIGHT JOIN do SQL\n",
    "    * `semi / leftsemi / left_semi`: realiza um LEFT JOIN do SQL e retorna somente as colunas do DataFrame da esquerda que também estão no DataFrame da Direita\n",
    "    * `anti / leftanti / left_anti`: realiza um LEFT JOIN do SQL e retorna somente as colunas do DataFrame da esquerda que não estão no DataFrame da Direita"
   ]
  },
  {
   "cell_type": "code",
   "execution_count": 141,
   "metadata": {},
   "outputs": [],
   "source": [
    "df_parquet_user = spark.read.format(\"parquet\").load(file_path_parquet_user)"
   ]
  },
  {
   "cell_type": "code",
   "execution_count": 144,
   "metadata": {},
   "outputs": [
    {
     "data": {
      "text/html": [
       "<table border='1'>\n",
       "<tr><th>user</th><th>quantidade</th></tr>\n",
       "<tr><td>FRODO</td><td>49</td></tr>\n",
       "<tr><td>SAM</td><td>48</td></tr>\n",
       "<tr><td>GANDALF</td><td>40</td></tr>\n",
       "<tr><td>PIPPIN</td><td>30</td></tr>\n",
       "<tr><td>SMEAGOL</td><td>24</td></tr>\n",
       "<tr><td>THEODEN</td><td>20</td></tr>\n",
       "<tr><td>ARAGORN</td><td>20</td></tr>\n",
       "<tr><td>SARUMAN</td><td>16</td></tr>\n",
       "<tr><td>GIMLI</td><td>16</td></tr>\n",
       "<tr><td>ORC</td><td>14</td></tr>\n",
       "</table>\n",
       "only showing top 10 rows\n"
      ],
      "text/plain": [
       "+-------+----------+\n",
       "|   user|quantidade|\n",
       "+-------+----------+\n",
       "|  FRODO|        49|\n",
       "|    SAM|        48|\n",
       "|GANDALF|        40|\n",
       "| PIPPIN|        30|\n",
       "|SMEAGOL|        24|\n",
       "|THEODEN|        20|\n",
       "|ARAGORN|        20|\n",
       "|SARUMAN|        16|\n",
       "|  GIMLI|        16|\n",
       "|    ORC|        14|\n",
       "+-------+----------+\n",
       "only showing top 10 rows"
      ]
     },
     "execution_count": 144,
     "metadata": {},
     "output_type": "execute_result"
    }
   ],
   "source": [
    "(\n",
    "    df_parquet_user.select(\"word\", \"count\")\n",
    "    .withColumnRenamed(\"word\", \"user\")\n",
    "    .withColumnRenamed(\"count\", \"quantidade\")\n",
    ")"
   ]
  },
  {
   "cell_type": "code",
   "execution_count": 145,
   "metadata": {},
   "outputs": [
    {
     "data": {
      "text/html": [
       "<table border='1'>\n",
       "<tr><th>word</th><th>count</th></tr>\n",
       "<tr><td>FRODO</td><td>49</td></tr>\n",
       "<tr><td>SAM</td><td>48</td></tr>\n",
       "<tr><td>GANDALF</td><td>40</td></tr>\n",
       "<tr><td>PIPPIN</td><td>30</td></tr>\n",
       "<tr><td>SMEAGOL</td><td>24</td></tr>\n",
       "<tr><td>THEODEN</td><td>20</td></tr>\n",
       "<tr><td>ARAGORN</td><td>20</td></tr>\n",
       "<tr><td>SARUMAN</td><td>16</td></tr>\n",
       "<tr><td>GIMLI</td><td>16</td></tr>\n",
       "<tr><td>ORC</td><td>14</td></tr>\n",
       "</table>\n",
       "only showing top 10 rows\n"
      ],
      "text/plain": [
       "DataFrame[word: string, count: bigint]"
      ]
     },
     "execution_count": 145,
     "metadata": {},
     "output_type": "execute_result"
    }
   ],
   "source": [
    "df_parquet_user"
   ]
  },
  {
   "cell_type": "code",
   "execution_count": 143,
   "metadata": {},
   "outputs": [
    {
     "data": {
      "text/html": [
       "<table border='1'>\n",
       "<tr><th>Unnamed:0</th><th>char</th><th>dialog</th><th>movie</th></tr>\n",
       "<tr><td>0</td><td>DEAGOL</td><td>Oh Smeagol Ive go...</td><td>The Return of the...</td></tr>\n",
       "<tr><td>1</td><td>SMEAGOL</td><td>Pull it in! Go on...</td><td>The Return of the...</td></tr>\n",
       "<tr><td>2</td><td>DEAGOL</td><td>Arrghh! </td><td>The Return of the...</td></tr>\n",
       "<tr><td>3</td><td>SMEAGOL</td><td>Deagol!  </td><td>The Return of the...</td></tr>\n",
       "<tr><td>4</td><td>SMEAGOL</td><td>Deagol!  </td><td>The Return of the...</td></tr>\n",
       "<tr><td>5</td><td>SMEAGOL</td><td>Deagol!  </td><td>The Return of the...</td></tr>\n",
       "<tr><td>6</td><td>SMEAGOL</td><td>Give us that! Dea...</td><td>The Return of the...</td></tr>\n",
       "<tr><td>7</td><td>DEAGOL</td><td>Why?  </td><td>The Return of the...</td></tr>\n",
       "<tr><td>8</td><td>SMEAGOL</td><td>Because&#x27; , it&#x27;s m...</td><td>The Return of the...</td></tr>\n",
       "<tr><td>9</td><td>SMEAGOL</td><td> My precious.  </td><td>The Return of the...</td></tr>\n",
       "</table>\n",
       "only showing top 10 rows\n"
      ],
      "text/plain": [
       "DataFrame[Unnamed:0: string, char: string, dialog: string, movie: string]"
      ]
     },
     "execution_count": 143,
     "metadata": {},
     "output_type": "execute_result"
    }
   ],
   "source": [
    "df_parquet"
   ]
  },
  {
   "cell_type": "code",
   "execution_count": 146,
   "metadata": {
    "id": "dQsKy0XS5Amr",
    "outputId": "febb92b8-9dc6-44a1-986c-0e56be10df00"
   },
   "outputs": [],
   "source": [
    "df_lotr_user = df_parquet.join(df_parquet_user, df_parquet_user.word == df_parquet.char, how=\"inner\")"
   ]
  },
  {
   "cell_type": "code",
   "execution_count": 147,
   "metadata": {},
   "outputs": [
    {
     "data": {
      "text/html": [
       "<table border='1'>\n",
       "<tr><th>Unnamed:0</th><th>char</th><th>dialog</th><th>movie</th><th>word</th><th>count</th></tr>\n",
       "<tr><td>0</td><td>DEAGOL</td><td>Oh Smeagol Ive go...</td><td>The Return of the...</td><td>DEAGOL</td><td>6</td></tr>\n",
       "<tr><td>1</td><td>SMEAGOL</td><td>Pull it in! Go on...</td><td>The Return of the...</td><td>SMEAGOL</td><td>24</td></tr>\n",
       "<tr><td>2</td><td>DEAGOL</td><td>Arrghh! </td><td>The Return of the...</td><td>DEAGOL</td><td>6</td></tr>\n",
       "<tr><td>3</td><td>SMEAGOL</td><td>Deagol!  </td><td>The Return of the...</td><td>SMEAGOL</td><td>24</td></tr>\n",
       "<tr><td>4</td><td>SMEAGOL</td><td>Deagol!  </td><td>The Return of the...</td><td>SMEAGOL</td><td>24</td></tr>\n",
       "<tr><td>5</td><td>SMEAGOL</td><td>Deagol!  </td><td>The Return of the...</td><td>SMEAGOL</td><td>24</td></tr>\n",
       "<tr><td>6</td><td>SMEAGOL</td><td>Give us that! Dea...</td><td>The Return of the...</td><td>SMEAGOL</td><td>24</td></tr>\n",
       "<tr><td>7</td><td>DEAGOL</td><td>Why?  </td><td>The Return of the...</td><td>DEAGOL</td><td>6</td></tr>\n",
       "<tr><td>8</td><td>SMEAGOL</td><td>Because&#x27; , it&#x27;s m...</td><td>The Return of the...</td><td>SMEAGOL</td><td>24</td></tr>\n",
       "<tr><td>9</td><td>SMEAGOL</td><td> My precious.  </td><td>The Return of the...</td><td>SMEAGOL</td><td>24</td></tr>\n",
       "</table>\n",
       "only showing top 10 rows\n"
      ],
      "text/plain": [
       "+---------+-------+--------------------+--------------------+-------+-----+\n",
       "|Unnamed:0|   char|              dialog|               movie|   word|count|\n",
       "+---------+-------+--------------------+--------------------+-------+-----+\n",
       "|        0| DEAGOL|Oh Smeagol Ive go...|The Return of the...| DEAGOL|    6|\n",
       "|        1|SMEAGOL|Pull it in! Go on...|The Return of the...|SMEAGOL|   24|\n",
       "|        2| DEAGOL|            Arrghh! |The Return of the...| DEAGOL|    6|\n",
       "|        3|SMEAGOL|           Deagol!  |The Return of the...|SMEAGOL|   24|\n",
       "|        4|SMEAGOL|           Deagol!  |The Return of the...|SMEAGOL|   24|\n",
       "|        5|SMEAGOL|           Deagol!  |The Return of the...|SMEAGOL|   24|\n",
       "|        6|SMEAGOL|Give us that! Dea...|The Return of the...|SMEAGOL|   24|\n",
       "|        7| DEAGOL|              Why?  |The Return of the...| DEAGOL|    6|\n",
       "|        8|SMEAGOL|Because' , it's m...|The Return of the...|SMEAGOL|   24|\n",
       "|        9|SMEAGOL|      My precious.  |The Return of the...|SMEAGOL|   24|\n",
       "+---------+-------+--------------------+--------------------+-------+-----+\n",
       "only showing top 10 rows"
      ]
     },
     "execution_count": 147,
     "metadata": {},
     "output_type": "execute_result"
    }
   ],
   "source": [
    "df_lotr_user"
   ]
  },
  {
   "cell_type": "markdown",
   "metadata": {
    "id": "UdKFY2uxNwrs"
   },
   "source": [
    "### Salvando os Dados"
   ]
  },
  {
   "cell_type": "markdown",
   "metadata": {
    "id": "wdDLyQqQPXz8"
   },
   "source": [
    "Para a escrita dos dados, importante ressaltar a seguinte opção\n",
    "* mode: especifica o comportamento da operação de escrita dos dados, caso eles já existam\n",
    "  * append: Anexa o conteudo do DataFrame aos dados existentes.\n",
    "  * overwrite: Sobrescreve dados existentes.\n",
    "  * ignore: Ignora silenciosamente essa oprecao se os dados ja existirem.\n",
    "  * error or errorifexists (default): Retorna erro se os dados ja existirem."
   ]
  },
  {
   "cell_type": "code",
   "execution_count": 148,
   "metadata": {},
   "outputs": [],
   "source": [
    "cols = [\"char\",\"dialog\",\"movie\",\"count\"]"
   ]
  },
  {
   "cell_type": "code",
   "execution_count": 149,
   "metadata": {},
   "outputs": [],
   "source": [
    "df = df_lotr_user.coalesce(1)"
   ]
  },
  {
   "cell_type": "code",
   "execution_count": 150,
   "metadata": {},
   "outputs": [
    {
     "data": {
      "text/plain": [
       "1"
      ]
     },
     "execution_count": 150,
     "metadata": {},
     "output_type": "execute_result"
    }
   ],
   "source": [
    "df.rdd.getNumPartitions()"
   ]
  },
  {
   "cell_type": "code",
   "execution_count": 151,
   "metadata": {},
   "outputs": [
    {
     "data": {
      "text/html": [
       "<table border='1'>\n",
       "<tr><th>Unnamed:0</th><th>char</th><th>dialog</th><th>movie</th><th>word</th><th>count</th></tr>\n",
       "<tr><td>0</td><td>DEAGOL</td><td>Oh Smeagol Ive go...</td><td>The Return of the...</td><td>DEAGOL</td><td>6</td></tr>\n",
       "<tr><td>1</td><td>SMEAGOL</td><td>Pull it in! Go on...</td><td>The Return of the...</td><td>SMEAGOL</td><td>24</td></tr>\n",
       "<tr><td>2</td><td>DEAGOL</td><td>Arrghh! </td><td>The Return of the...</td><td>DEAGOL</td><td>6</td></tr>\n",
       "<tr><td>3</td><td>SMEAGOL</td><td>Deagol!  </td><td>The Return of the...</td><td>SMEAGOL</td><td>24</td></tr>\n",
       "<tr><td>4</td><td>SMEAGOL</td><td>Deagol!  </td><td>The Return of the...</td><td>SMEAGOL</td><td>24</td></tr>\n",
       "<tr><td>5</td><td>SMEAGOL</td><td>Deagol!  </td><td>The Return of the...</td><td>SMEAGOL</td><td>24</td></tr>\n",
       "<tr><td>6</td><td>SMEAGOL</td><td>Give us that! Dea...</td><td>The Return of the...</td><td>SMEAGOL</td><td>24</td></tr>\n",
       "<tr><td>7</td><td>DEAGOL</td><td>Why?  </td><td>The Return of the...</td><td>DEAGOL</td><td>6</td></tr>\n",
       "<tr><td>8</td><td>SMEAGOL</td><td>Because&#x27; , it&#x27;s m...</td><td>The Return of the...</td><td>SMEAGOL</td><td>24</td></tr>\n",
       "<tr><td>9</td><td>SMEAGOL</td><td> My precious.  </td><td>The Return of the...</td><td>SMEAGOL</td><td>24</td></tr>\n",
       "</table>\n",
       "only showing top 10 rows\n"
      ],
      "text/plain": [
       "+---------+-------+--------------------+--------------------+-------+-----+\n",
       "|Unnamed:0|   char|              dialog|               movie|   word|count|\n",
       "+---------+-------+--------------------+--------------------+-------+-----+\n",
       "|        0| DEAGOL|Oh Smeagol Ive go...|The Return of the...| DEAGOL|    6|\n",
       "|        1|SMEAGOL|Pull it in! Go on...|The Return of the...|SMEAGOL|   24|\n",
       "|        2| DEAGOL|            Arrghh! |The Return of the...| DEAGOL|    6|\n",
       "|        3|SMEAGOL|           Deagol!  |The Return of the...|SMEAGOL|   24|\n",
       "|        4|SMEAGOL|           Deagol!  |The Return of the...|SMEAGOL|   24|\n",
       "|        5|SMEAGOL|           Deagol!  |The Return of the...|SMEAGOL|   24|\n",
       "|        6|SMEAGOL|Give us that! Dea...|The Return of the...|SMEAGOL|   24|\n",
       "|        7| DEAGOL|              Why?  |The Return of the...| DEAGOL|    6|\n",
       "|        8|SMEAGOL|Because' , it's m...|The Return of the...|SMEAGOL|   24|\n",
       "|        9|SMEAGOL|      My precious.  |The Return of the...|SMEAGOL|   24|\n",
       "+---------+-------+--------------------+--------------------+-------+-----+\n",
       "only showing top 10 rows"
      ]
     },
     "execution_count": 151,
     "metadata": {},
     "output_type": "execute_result"
    }
   ],
   "source": [
    "df"
   ]
  },
  {
   "cell_type": "code",
   "execution_count": 152,
   "metadata": {},
   "outputs": [
    {
     "data": {
      "text/plain": [
       "6"
      ]
     },
     "execution_count": 152,
     "metadata": {},
     "output_type": "execute_result"
    }
   ],
   "source": [
    "df_lotr_user.rdd.getNumPartitions()"
   ]
  },
  {
   "cell_type": "code",
   "execution_count": 153,
   "metadata": {
    "id": "1ZwovSVcN0IR"
   },
   "outputs": [
    {
     "name": "stderr",
     "output_type": "stream",
     "text": [
      "                                                                                \r"
     ]
    }
   ],
   "source": [
    "(\n",
    "    df.select(cols).write.mode(\"overwrite\")\n",
    "        .format(\"parquet\")\n",
    "        .save(\"./data-processing-lotr-user/\")\n",
    ")"
   ]
  },
  {
   "cell_type": "code",
   "execution_count": 154,
   "metadata": {},
   "outputs": [],
   "source": [
    "df = spark.read.format(\"parquet\").load(\"./data-processing-lotr-user\")"
   ]
  },
  {
   "cell_type": "code",
   "execution_count": 155,
   "metadata": {},
   "outputs": [
    {
     "name": "stderr",
     "output_type": "stream",
     "text": [
      "                                                                                \r"
     ]
    },
    {
     "data": {
      "text/html": [
       "<table border='1'>\n",
       "<tr><th>char</th><th>dialog</th><th>movie</th><th>count</th></tr>\n",
       "<tr><td>DEAGOL</td><td>Oh Smeagol Ive go...</td><td>The Return of the...</td><td>6</td></tr>\n",
       "<tr><td>SMEAGOL</td><td>Pull it in! Go on...</td><td>The Return of the...</td><td>24</td></tr>\n",
       "<tr><td>DEAGOL</td><td>Arrghh! </td><td>The Return of the...</td><td>6</td></tr>\n",
       "<tr><td>SMEAGOL</td><td>Deagol!  </td><td>The Return of the...</td><td>24</td></tr>\n",
       "<tr><td>SMEAGOL</td><td>Deagol!  </td><td>The Return of the...</td><td>24</td></tr>\n",
       "<tr><td>SMEAGOL</td><td>Deagol!  </td><td>The Return of the...</td><td>24</td></tr>\n",
       "<tr><td>SMEAGOL</td><td>Give us that! Dea...</td><td>The Return of the...</td><td>24</td></tr>\n",
       "<tr><td>DEAGOL</td><td>Why?  </td><td>The Return of the...</td><td>6</td></tr>\n",
       "<tr><td>SMEAGOL</td><td>Because&#x27; , it&#x27;s m...</td><td>The Return of the...</td><td>24</td></tr>\n",
       "<tr><td>SMEAGOL</td><td> My precious.  </td><td>The Return of the...</td><td>24</td></tr>\n",
       "</table>\n",
       "only showing top 10 rows\n"
      ],
      "text/plain": [
       "+-------+--------------------+--------------------+-----+\n",
       "|   char|              dialog|               movie|count|\n",
       "+-------+--------------------+--------------------+-----+\n",
       "| DEAGOL|Oh Smeagol Ive go...|The Return of the...|    6|\n",
       "|SMEAGOL|Pull it in! Go on...|The Return of the...|   24|\n",
       "| DEAGOL|            Arrghh! |The Return of the...|    6|\n",
       "|SMEAGOL|           Deagol!  |The Return of the...|   24|\n",
       "|SMEAGOL|           Deagol!  |The Return of the...|   24|\n",
       "|SMEAGOL|           Deagol!  |The Return of the...|   24|\n",
       "|SMEAGOL|Give us that! Dea...|The Return of the...|   24|\n",
       "| DEAGOL|              Why?  |The Return of the...|    6|\n",
       "|SMEAGOL|Because' , it's m...|The Return of the...|   24|\n",
       "|SMEAGOL|      My precious.  |The Return of the...|   24|\n",
       "+-------+--------------------+--------------------+-----+\n",
       "only showing top 10 rows"
      ]
     },
     "execution_count": 155,
     "metadata": {},
     "output_type": "execute_result"
    }
   ],
   "source": [
    "df"
   ]
  }
 ],
 "metadata": {
  "colab": {
   "name": "A3Lab_PySpark.ipynb",
   "provenance": [],
   "toc_visible": true
  },
  "kernelspec": {
   "display_name": "Python 3.10.4 64-bit",
   "language": "python",
   "name": "python3"
  },
  "language_info": {
   "codemirror_mode": {
    "name": "ipython",
    "version": 3
   },
   "file_extension": ".py",
   "mimetype": "text/x-python",
   "name": "python",
   "nbconvert_exporter": "python",
   "pygments_lexer": "ipython3",
   "version": "3.10.8"
  },
  "vscode": {
   "interpreter": {
    "hash": "916dbcbb3f70747c44a77c7bcd40155683ae19c65e1c03b4aa3499c5328201f1"
   }
  }
 },
 "nbformat": 4,
 "nbformat_minor": 4
}
